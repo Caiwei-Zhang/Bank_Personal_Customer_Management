{
 "cells": [
  {
   "cell_type": "markdown",
   "metadata": {},
   "source": [
    "# Task 2: 了解数据，数据诊断\n",
    "\n",
    "## 导言\n",
    "\n",
    "在了解个人业务的基本业务情况之后，接下来需要了解个人业务基础数据结构。在实际工作中，我们遇到的数据往往是原始数据，这些数据一般都不是清晰完整的，比如可能出现数据缺失，ID不唯一的情况，不能直接用来建模。数据诊断工作帮助我们了解数据的缺陷，以便进一步的清理和整合数据。\n",
    "数据诊断可以从完整性，准确性，合理性等多个方面入手，诊断手段包括但不限于以下几种，比如单个变量的诊断，多个变量之间关系的诊断，不同表之间关系的诊断。下面举几个诊断的例子，让大家对于数据诊断工作有个感性的认识。\n",
    "\n",
    "1. 首先是单变量的完整性问题。有的客户的信用分数有缺失的，这种情况可能因为数据抽过程中数据缺失了，也有可能是这个客户本身在信用局就没有信用记录，需要区分这两种情况，代表的含义是不一样的。如果建模数据中有缺失值，就无法通过逻辑回归算法进行建模，必须将缺失值补全，或者删除有缺失值的记录，才能进行正常的建模。\n",
    "2. 其次是通过多个变量关系发现数据准确性问题。比如分析客户职业和收入数据关系，发现有的客户是正常的公司管理人员，并不是失业状态，但是收入填写的是年收入30元，有可能因为用户不愿透漏收入情况，也有可能是因为少填了“万”字，虽然这种数据没有缺失，但是也是不准确的。\n",
    "3. 还有通过表之间关联分析发现数据不合理的问题。比如在诊断交易账单表和客户表的关系时，可能会发现，在客户表里出现的客户号，没有在交易账户里出现过，这是合理的，因为有些客户开卡之后，并没有交易，所以在交易账单表里没有出现；但是如果在交易账单表里面的客户号，却没有出现在客户表里，就不合理了，任何一个正式用户都应该在客户表里保存，否则不可能进行正常的交易，这些不合理的客户需要从建模的样本剔除。\n",
    "\n",
    "在做数据诊断的过程中，一方面需要对于数据进行多方位统计，另一方面需要识别数据问题，这就需要理解业务流程和常识。在实际工作中，如果遇到不能理解的数据问题和特殊情况，需要及时和业务方沟通，了解实际情况，做到心中有数。"
   ]
  },
  {
   "cell_type": "markdown",
   "metadata": {},
   "source": [
    "### 环境准备\n",
    "载入所需R包："
   ]
  },
  {
   "cell_type": "code",
   "execution_count": 1,
   "metadata": {},
   "outputs": [
    {
     "name": "stderr",
     "output_type": "stream",
     "text": [
      "Warning message:\n",
      "\"package 'data.table' was built under R version 4.0.3\"\n",
      "Warning message:\n",
      "\"package 'tidyverse' was built under R version 4.0.2\"\n",
      "Warning message:\n",
      "\"replacing previous import 'vctrs::data_frame' by 'tibble::data_frame' when loading 'dplyr'\"\n",
      "-- \u001b[1mAttaching packages\u001b[22m --------------------------------------- tidyverse 1.3.0 --\n",
      "\n",
      "\u001b[32m√\u001b[39m \u001b[34mggplot2\u001b[39m 3.3.2     \u001b[32m√\u001b[39m \u001b[34mpurrr  \u001b[39m 0.3.4\n",
      "\u001b[32m√\u001b[39m \u001b[34mtibble \u001b[39m 3.0.1     \u001b[32m√\u001b[39m \u001b[34mdplyr  \u001b[39m 1.0.0\n",
      "\u001b[32m√\u001b[39m \u001b[34mtidyr  \u001b[39m 1.1.0     \u001b[32m√\u001b[39m \u001b[34mstringr\u001b[39m 1.4.0\n",
      "\u001b[32m√\u001b[39m \u001b[34mreadr  \u001b[39m 1.3.1     \u001b[32m√\u001b[39m \u001b[34mforcats\u001b[39m 0.5.0\n",
      "\n",
      "Warning message:\n",
      "\"package 'ggplot2' was built under R version 4.0.2\"\n",
      "Warning message:\n",
      "\"package 'tidyr' was built under R version 4.0.2\"\n",
      "Warning message:\n",
      "\"package 'readr' was built under R version 4.0.2\"\n",
      "Warning message:\n",
      "\"package 'dplyr' was built under R version 4.0.2\"\n",
      "Warning message:\n",
      "\"package 'forcats' was built under R version 4.0.2\"\n",
      "-- \u001b[1mConflicts\u001b[22m ------------------------------------------ tidyverse_conflicts() --\n",
      "\u001b[31mx\u001b[39m \u001b[34mdplyr\u001b[39m::\u001b[32mbetween()\u001b[39m   masks \u001b[34mdata.table\u001b[39m::between()\n",
      "\u001b[31mx\u001b[39m \u001b[34mdplyr\u001b[39m::\u001b[32mfilter()\u001b[39m    masks \u001b[34mstats\u001b[39m::filter()\n",
      "\u001b[31mx\u001b[39m \u001b[34mdplyr\u001b[39m::\u001b[32mfirst()\u001b[39m     masks \u001b[34mdata.table\u001b[39m::first()\n",
      "\u001b[31mx\u001b[39m \u001b[34mdplyr\u001b[39m::\u001b[32mlag()\u001b[39m       masks \u001b[34mstats\u001b[39m::lag()\n",
      "\u001b[31mx\u001b[39m \u001b[34mdplyr\u001b[39m::\u001b[32mlast()\u001b[39m      masks \u001b[34mdata.table\u001b[39m::last()\n",
      "\u001b[31mx\u001b[39m \u001b[34mpurrr\u001b[39m::\u001b[32mtranspose()\u001b[39m masks \u001b[34mdata.table\u001b[39m::transpose()\n",
      "\n",
      "Warning message:\n",
      "\"package 'mlr' was built under R version 4.0.3\"\n",
      "Loading required package: ParamHelpers\n",
      "\n",
      "Warning message:\n",
      "\"package 'ParamHelpers' was built under R version 4.0.3\"\n",
      "'mlr' is in maintenance mode since July 2019. Future development\n",
      "efforts will go into its successor 'mlr3' (<https://mlr3.mlr-org.com>).\n",
      "\n"
     ]
    }
   ],
   "source": [
    "library(data.table)\n",
    "library(tidyverse)\n",
    "library(mlr)"
   ]
  },
  {
   "cell_type": "markdown",
   "metadata": {},
   "source": [
    "### Step 1: 读入数据\n",
    "待处理数据以csv文件给出，数据字典以xlsx文件给出。设定当前路径到数据所在文件夹，读取数据："
   ]
  },
  {
   "cell_type": "code",
   "execution_count": 2,
   "metadata": {},
   "outputs": [],
   "source": [
    "# set path\n",
    "sw <- \"E:/实习/信用卡管理/Task 2\"\n",
    "setwd(sw) \n",
    "path <- paste(sw, \"data\", sep = \"/\")\n",
    "filepath <- list.files(path = path, pattern = \".csv\", full.names = TRUE)\n",
    "filename <- gsub(pattern = \".csv\", replacement = \"\", \n",
    "                 list.files(path = path, pattern = \".csv\"))\n",
    "# read data\n",
    "for (i in 1:length(filepath)) {\n",
    "  assign(filename[i], fread(input = filepath[i]) %>% as_tibble())\n",
    "}"
   ]
  },
  {
   "cell_type": "markdown",
   "metadata": {},
   "source": [
    "### Step 2:数据去重\n",
    "**1. 客户表(app_data)处理思路**  \n",
    "\n",
    "app_data中的客户号应具有唯一性，首先针对ID列进行数据去重。经检查发现，有8个ID出现了2次，其中有5条数据是重复的，删除。其余3条数据仅与其同ID的数据在字段“AMT_INCOME_TOTAL”不同，均相差一位0，考虑是数据采集或录入出错，采取删除操作"
   ]
  },
  {
   "cell_type": "code",
   "execution_count": 3,
   "metadata": {},
   "outputs": [
    {
     "data": {
      "text/html": [
       "4058"
      ],
      "text/latex": [
       "4058"
      ],
      "text/markdown": [
       "4058"
      ],
      "text/plain": [
       "[1] 4058"
      ]
     },
     "metadata": {},
     "output_type": "display_data"
    }
   ],
   "source": [
    "# 查看原始数据样本数\n",
    "nrow(app_data)"
   ]
  },
  {
   "cell_type": "code",
   "execution_count": 4,
   "metadata": {},
   "outputs": [
    {
     "data": {
      "text/html": [
       "<table>\n",
       "<caption>A tibble: 16 × 19</caption>\n",
       "<thead>\n",
       "\t<tr><th scope=col>ID</th><th scope=col>CODE_GENDER</th><th scope=col>FLAG_OWN_CAR</th><th scope=col>FLAG_OWN_REALTY</th><th scope=col>CNT_CHILDREN</th><th scope=col>AMT_INCOME_TOTAL</th><th scope=col>NAME_INCOME_TYPE</th><th scope=col>NAME_EDUCATION_TYPE</th><th scope=col>NAME_FAMILY_STATUS</th><th scope=col>NAME_HOUSING_TYPE</th><th scope=col>DAYS_BIRTH</th><th scope=col>DAYS_EMPLOYED</th><th scope=col>FLAG_MOBIL</th><th scope=col>FLAG_WORK_PHONE</th><th scope=col>FLAG_PHONE</th><th scope=col>FLAG_EMAIL</th><th scope=col>OCCUPATION_TYPE</th><th scope=col>CNT_FAM_MEMBERS</th><th scope=col>count</th></tr>\n",
       "\t<tr><th scope=col>&lt;int&gt;</th><th scope=col>&lt;chr&gt;</th><th scope=col>&lt;chr&gt;</th><th scope=col>&lt;chr&gt;</th><th scope=col>&lt;int&gt;</th><th scope=col>&lt;dbl&gt;</th><th scope=col>&lt;chr&gt;</th><th scope=col>&lt;chr&gt;</th><th scope=col>&lt;chr&gt;</th><th scope=col>&lt;chr&gt;</th><th scope=col>&lt;int&gt;</th><th scope=col>&lt;int&gt;</th><th scope=col>&lt;int&gt;</th><th scope=col>&lt;int&gt;</th><th scope=col>&lt;int&gt;</th><th scope=col>&lt;int&gt;</th><th scope=col>&lt;chr&gt;</th><th scope=col>&lt;int&gt;</th><th scope=col>&lt;int&gt;</th></tr>\n",
       "</thead>\n",
       "<tbody>\n",
       "\t<tr><td>5760331</td><td>M</td><td>Y</td><td>N</td><td>0</td><td> 81000</td><td>State servant</td><td>Secondary / secondary special</td><td>Single / not married</td><td>Municipal apartment</td><td>-10574</td><td>  -126</td><td>1</td><td>0</td><td>0</td><td>0</td><td>Drivers    </td><td>1</td><td>2</td></tr>\n",
       "\t<tr><td>5760331</td><td>M</td><td>Y</td><td>N</td><td>0</td><td> 81000</td><td>State servant</td><td>Secondary / secondary special</td><td>Single / not married</td><td>Municipal apartment</td><td>-10574</td><td>  -126</td><td>1</td><td>0</td><td>0</td><td>0</td><td>Drivers    </td><td>1</td><td>2</td></tr>\n",
       "\t<tr><td>5465597</td><td>F</td><td>N</td><td>Y</td><td>1</td><td>157500</td><td>Working      </td><td>Secondary / secondary special</td><td>Married             </td><td>House / apartment  </td><td>-12108</td><td> -1379</td><td>1</td><td>0</td><td>0</td><td>0</td><td>Sales staff</td><td>3</td><td>2</td></tr>\n",
       "\t<tr><td>5465597</td><td>F</td><td>N</td><td>Y</td><td>1</td><td>157500</td><td>Working      </td><td>Secondary / secondary special</td><td>Married             </td><td>House / apartment  </td><td>-12108</td><td> -1379</td><td>1</td><td>0</td><td>0</td><td>0</td><td>Sales staff</td><td>3</td><td>2</td></tr>\n",
       "\t<tr><td>5787586</td><td>M</td><td>Y</td><td>Y</td><td>2</td><td>180000</td><td>Working      </td><td>Higher education             </td><td>Civil marriage      </td><td>House / apartment  </td><td>-14708</td><td> -1679</td><td>1</td><td>0</td><td>1</td><td>0</td><td>Laborers   </td><td>4</td><td>2</td></tr>\n",
       "\t<tr><td>5787586</td><td>M</td><td>Y</td><td>Y</td><td>2</td><td> 18000</td><td>Working      </td><td>Higher education             </td><td>Civil marriage      </td><td>House / apartment  </td><td>-14708</td><td> -1679</td><td>1</td><td>0</td><td>1</td><td>0</td><td>Laborers   </td><td>4</td><td>2</td></tr>\n",
       "\t<tr><td>5992966</td><td>M</td><td>Y</td><td>Y</td><td>0</td><td>135000</td><td>Working      </td><td>Secondary / secondary special</td><td>Civil marriage      </td><td>House / apartment  </td><td>-16857</td><td> -1682</td><td>1</td><td>0</td><td>0</td><td>1</td><td>Managers   </td><td>2</td><td>2</td></tr>\n",
       "\t<tr><td>5992966</td><td>M</td><td>Y</td><td>Y</td><td>0</td><td> 13500</td><td>Working      </td><td>Secondary / secondary special</td><td>Civil marriage      </td><td>House / apartment  </td><td>-16857</td><td> -1682</td><td>1</td><td>0</td><td>0</td><td>1</td><td>Managers   </td><td>2</td><td>2</td></tr>\n",
       "\t<tr><td>5090598</td><td>F</td><td>N</td><td>Y</td><td>0</td><td>112500</td><td>State servant</td><td>Higher education             </td><td>Married             </td><td>House / apartment  </td><td>-16907</td><td>  -429</td><td>1</td><td>0</td><td>0</td><td>0</td><td>Secretaries</td><td>2</td><td>2</td></tr>\n",
       "\t<tr><td>5090598</td><td>F</td><td>N</td><td>Y</td><td>0</td><td>112500</td><td>State servant</td><td>Higher education             </td><td>Married             </td><td>House / apartment  </td><td>-16907</td><td>  -429</td><td>1</td><td>0</td><td>0</td><td>0</td><td>Secretaries</td><td>2</td><td>2</td></tr>\n",
       "\t<tr><td>5791986</td><td>F</td><td>N</td><td>Y</td><td>1</td><td>117000</td><td>Working      </td><td>Secondary / secondary special</td><td>Widow               </td><td>House / apartment  </td><td>-16997</td><td>  -280</td><td>1</td><td>1</td><td>1</td><td>0</td><td>           </td><td>2</td><td>2</td></tr>\n",
       "\t<tr><td>5791986</td><td>F</td><td>N</td><td>Y</td><td>1</td><td>117000</td><td>Working      </td><td>Secondary / secondary special</td><td>Widow               </td><td>House / apartment  </td><td>-16997</td><td>  -280</td><td>1</td><td>1</td><td>1</td><td>0</td><td>           </td><td>2</td><td>2</td></tr>\n",
       "\t<tr><td>6231594</td><td>M</td><td>N</td><td>Y</td><td>0</td><td>202500</td><td>Working      </td><td>Secondary / secondary special</td><td>Married             </td><td>House / apartment  </td><td>-20794</td><td> -1805</td><td>1</td><td>0</td><td>0</td><td>1</td><td>Drivers    </td><td>2</td><td>2</td></tr>\n",
       "\t<tr><td>6231594</td><td>M</td><td>N</td><td>Y</td><td>0</td><td>202500</td><td>Working      </td><td>Secondary / secondary special</td><td>Married             </td><td>House / apartment  </td><td>-20794</td><td> -1805</td><td>1</td><td>0</td><td>0</td><td>1</td><td>Drivers    </td><td>2</td><td>2</td></tr>\n",
       "\t<tr><td>5791716</td><td>F</td><td>N</td><td>Y</td><td>0</td><td>144000</td><td>Pensioner    </td><td>Secondary / secondary special</td><td>Single / not married</td><td>Rented apartment   </td><td>-21942</td><td>365243</td><td>1</td><td>0</td><td>0</td><td>0</td><td>           </td><td>1</td><td>2</td></tr>\n",
       "\t<tr><td>5791716</td><td>F</td><td>N</td><td>Y</td><td>0</td><td> 44000</td><td>Pensioner    </td><td>Secondary / secondary special</td><td>Single / not married</td><td>Rented apartment   </td><td>-21942</td><td>365243</td><td>1</td><td>0</td><td>0</td><td>0</td><td>           </td><td>1</td><td>2</td></tr>\n",
       "</tbody>\n",
       "</table>\n"
      ],
      "text/latex": [
       "A tibble: 16 × 19\n",
       "\\begin{tabular}{lllllllllllllllllll}\n",
       " ID & CODE\\_GENDER & FLAG\\_OWN\\_CAR & FLAG\\_OWN\\_REALTY & CNT\\_CHILDREN & AMT\\_INCOME\\_TOTAL & NAME\\_INCOME\\_TYPE & NAME\\_EDUCATION\\_TYPE & NAME\\_FAMILY\\_STATUS & NAME\\_HOUSING\\_TYPE & DAYS\\_BIRTH & DAYS\\_EMPLOYED & FLAG\\_MOBIL & FLAG\\_WORK\\_PHONE & FLAG\\_PHONE & FLAG\\_EMAIL & OCCUPATION\\_TYPE & CNT\\_FAM\\_MEMBERS & count\\\\\n",
       " <int> & <chr> & <chr> & <chr> & <int> & <dbl> & <chr> & <chr> & <chr> & <chr> & <int> & <int> & <int> & <int> & <int> & <int> & <chr> & <int> & <int>\\\\\n",
       "\\hline\n",
       "\t 5760331 & M & Y & N & 0 &  81000 & State servant & Secondary / secondary special & Single / not married & Municipal apartment & -10574 &   -126 & 1 & 0 & 0 & 0 & Drivers     & 1 & 2\\\\\n",
       "\t 5760331 & M & Y & N & 0 &  81000 & State servant & Secondary / secondary special & Single / not married & Municipal apartment & -10574 &   -126 & 1 & 0 & 0 & 0 & Drivers     & 1 & 2\\\\\n",
       "\t 5465597 & F & N & Y & 1 & 157500 & Working       & Secondary / secondary special & Married              & House / apartment   & -12108 &  -1379 & 1 & 0 & 0 & 0 & Sales staff & 3 & 2\\\\\n",
       "\t 5465597 & F & N & Y & 1 & 157500 & Working       & Secondary / secondary special & Married              & House / apartment   & -12108 &  -1379 & 1 & 0 & 0 & 0 & Sales staff & 3 & 2\\\\\n",
       "\t 5787586 & M & Y & Y & 2 & 180000 & Working       & Higher education              & Civil marriage       & House / apartment   & -14708 &  -1679 & 1 & 0 & 1 & 0 & Laborers    & 4 & 2\\\\\n",
       "\t 5787586 & M & Y & Y & 2 &  18000 & Working       & Higher education              & Civil marriage       & House / apartment   & -14708 &  -1679 & 1 & 0 & 1 & 0 & Laborers    & 4 & 2\\\\\n",
       "\t 5992966 & M & Y & Y & 0 & 135000 & Working       & Secondary / secondary special & Civil marriage       & House / apartment   & -16857 &  -1682 & 1 & 0 & 0 & 1 & Managers    & 2 & 2\\\\\n",
       "\t 5992966 & M & Y & Y & 0 &  13500 & Working       & Secondary / secondary special & Civil marriage       & House / apartment   & -16857 &  -1682 & 1 & 0 & 0 & 1 & Managers    & 2 & 2\\\\\n",
       "\t 5090598 & F & N & Y & 0 & 112500 & State servant & Higher education              & Married              & House / apartment   & -16907 &   -429 & 1 & 0 & 0 & 0 & Secretaries & 2 & 2\\\\\n",
       "\t 5090598 & F & N & Y & 0 & 112500 & State servant & Higher education              & Married              & House / apartment   & -16907 &   -429 & 1 & 0 & 0 & 0 & Secretaries & 2 & 2\\\\\n",
       "\t 5791986 & F & N & Y & 1 & 117000 & Working       & Secondary / secondary special & Widow                & House / apartment   & -16997 &   -280 & 1 & 1 & 1 & 0 &             & 2 & 2\\\\\n",
       "\t 5791986 & F & N & Y & 1 & 117000 & Working       & Secondary / secondary special & Widow                & House / apartment   & -16997 &   -280 & 1 & 1 & 1 & 0 &             & 2 & 2\\\\\n",
       "\t 6231594 & M & N & Y & 0 & 202500 & Working       & Secondary / secondary special & Married              & House / apartment   & -20794 &  -1805 & 1 & 0 & 0 & 1 & Drivers     & 2 & 2\\\\\n",
       "\t 6231594 & M & N & Y & 0 & 202500 & Working       & Secondary / secondary special & Married              & House / apartment   & -20794 &  -1805 & 1 & 0 & 0 & 1 & Drivers     & 2 & 2\\\\\n",
       "\t 5791716 & F & N & Y & 0 & 144000 & Pensioner     & Secondary / secondary special & Single / not married & Rented apartment    & -21942 & 365243 & 1 & 0 & 0 & 0 &             & 1 & 2\\\\\n",
       "\t 5791716 & F & N & Y & 0 &  44000 & Pensioner     & Secondary / secondary special & Single / not married & Rented apartment    & -21942 & 365243 & 1 & 0 & 0 & 0 &             & 1 & 2\\\\\n",
       "\\end{tabular}\n"
      ],
      "text/markdown": [
       "\n",
       "A tibble: 16 × 19\n",
       "\n",
       "| ID &lt;int&gt; | CODE_GENDER &lt;chr&gt; | FLAG_OWN_CAR &lt;chr&gt; | FLAG_OWN_REALTY &lt;chr&gt; | CNT_CHILDREN &lt;int&gt; | AMT_INCOME_TOTAL &lt;dbl&gt; | NAME_INCOME_TYPE &lt;chr&gt; | NAME_EDUCATION_TYPE &lt;chr&gt; | NAME_FAMILY_STATUS &lt;chr&gt; | NAME_HOUSING_TYPE &lt;chr&gt; | DAYS_BIRTH &lt;int&gt; | DAYS_EMPLOYED &lt;int&gt; | FLAG_MOBIL &lt;int&gt; | FLAG_WORK_PHONE &lt;int&gt; | FLAG_PHONE &lt;int&gt; | FLAG_EMAIL &lt;int&gt; | OCCUPATION_TYPE &lt;chr&gt; | CNT_FAM_MEMBERS &lt;int&gt; | count &lt;int&gt; |\n",
       "|---|---|---|---|---|---|---|---|---|---|---|---|---|---|---|---|---|---|---|\n",
       "| 5760331 | M | Y | N | 0 |  81000 | State servant | Secondary / secondary special | Single / not married | Municipal apartment | -10574 |   -126 | 1 | 0 | 0 | 0 | Drivers     | 1 | 2 |\n",
       "| 5760331 | M | Y | N | 0 |  81000 | State servant | Secondary / secondary special | Single / not married | Municipal apartment | -10574 |   -126 | 1 | 0 | 0 | 0 | Drivers     | 1 | 2 |\n",
       "| 5465597 | F | N | Y | 1 | 157500 | Working       | Secondary / secondary special | Married              | House / apartment   | -12108 |  -1379 | 1 | 0 | 0 | 0 | Sales staff | 3 | 2 |\n",
       "| 5465597 | F | N | Y | 1 | 157500 | Working       | Secondary / secondary special | Married              | House / apartment   | -12108 |  -1379 | 1 | 0 | 0 | 0 | Sales staff | 3 | 2 |\n",
       "| 5787586 | M | Y | Y | 2 | 180000 | Working       | Higher education              | Civil marriage       | House / apartment   | -14708 |  -1679 | 1 | 0 | 1 | 0 | Laborers    | 4 | 2 |\n",
       "| 5787586 | M | Y | Y | 2 |  18000 | Working       | Higher education              | Civil marriage       | House / apartment   | -14708 |  -1679 | 1 | 0 | 1 | 0 | Laborers    | 4 | 2 |\n",
       "| 5992966 | M | Y | Y | 0 | 135000 | Working       | Secondary / secondary special | Civil marriage       | House / apartment   | -16857 |  -1682 | 1 | 0 | 0 | 1 | Managers    | 2 | 2 |\n",
       "| 5992966 | M | Y | Y | 0 |  13500 | Working       | Secondary / secondary special | Civil marriage       | House / apartment   | -16857 |  -1682 | 1 | 0 | 0 | 1 | Managers    | 2 | 2 |\n",
       "| 5090598 | F | N | Y | 0 | 112500 | State servant | Higher education              | Married              | House / apartment   | -16907 |   -429 | 1 | 0 | 0 | 0 | Secretaries | 2 | 2 |\n",
       "| 5090598 | F | N | Y | 0 | 112500 | State servant | Higher education              | Married              | House / apartment   | -16907 |   -429 | 1 | 0 | 0 | 0 | Secretaries | 2 | 2 |\n",
       "| 5791986 | F | N | Y | 1 | 117000 | Working       | Secondary / secondary special | Widow                | House / apartment   | -16997 |   -280 | 1 | 1 | 1 | 0 | <!----> | 2 | 2 |\n",
       "| 5791986 | F | N | Y | 1 | 117000 | Working       | Secondary / secondary special | Widow                | House / apartment   | -16997 |   -280 | 1 | 1 | 1 | 0 | <!----> | 2 | 2 |\n",
       "| 6231594 | M | N | Y | 0 | 202500 | Working       | Secondary / secondary special | Married              | House / apartment   | -20794 |  -1805 | 1 | 0 | 0 | 1 | Drivers     | 2 | 2 |\n",
       "| 6231594 | M | N | Y | 0 | 202500 | Working       | Secondary / secondary special | Married              | House / apartment   | -20794 |  -1805 | 1 | 0 | 0 | 1 | Drivers     | 2 | 2 |\n",
       "| 5791716 | F | N | Y | 0 | 144000 | Pensioner     | Secondary / secondary special | Single / not married | Rented apartment    | -21942 | 365243 | 1 | 0 | 0 | 0 | <!----> | 1 | 2 |\n",
       "| 5791716 | F | N | Y | 0 |  44000 | Pensioner     | Secondary / secondary special | Single / not married | Rented apartment    | -21942 | 365243 | 1 | 0 | 0 | 0 | <!----> | 1 | 2 |\n",
       "\n"
      ],
      "text/plain": [
       "   ID      CODE_GENDER FLAG_OWN_CAR FLAG_OWN_REALTY CNT_CHILDREN\n",
       "1  5760331 M           Y            N               0           \n",
       "2  5760331 M           Y            N               0           \n",
       "3  5465597 F           N            Y               1           \n",
       "4  5465597 F           N            Y               1           \n",
       "5  5787586 M           Y            Y               2           \n",
       "6  5787586 M           Y            Y               2           \n",
       "7  5992966 M           Y            Y               0           \n",
       "8  5992966 M           Y            Y               0           \n",
       "9  5090598 F           N            Y               0           \n",
       "10 5090598 F           N            Y               0           \n",
       "11 5791986 F           N            Y               1           \n",
       "12 5791986 F           N            Y               1           \n",
       "13 6231594 M           N            Y               0           \n",
       "14 6231594 M           N            Y               0           \n",
       "15 5791716 F           N            Y               0           \n",
       "16 5791716 F           N            Y               0           \n",
       "   AMT_INCOME_TOTAL NAME_INCOME_TYPE NAME_EDUCATION_TYPE          \n",
       "1   81000           State servant    Secondary / secondary special\n",
       "2   81000           State servant    Secondary / secondary special\n",
       "3  157500           Working          Secondary / secondary special\n",
       "4  157500           Working          Secondary / secondary special\n",
       "5  180000           Working          Higher education             \n",
       "6   18000           Working          Higher education             \n",
       "7  135000           Working          Secondary / secondary special\n",
       "8   13500           Working          Secondary / secondary special\n",
       "9  112500           State servant    Higher education             \n",
       "10 112500           State servant    Higher education             \n",
       "11 117000           Working          Secondary / secondary special\n",
       "12 117000           Working          Secondary / secondary special\n",
       "13 202500           Working          Secondary / secondary special\n",
       "14 202500           Working          Secondary / secondary special\n",
       "15 144000           Pensioner        Secondary / secondary special\n",
       "16  44000           Pensioner        Secondary / secondary special\n",
       "   NAME_FAMILY_STATUS   NAME_HOUSING_TYPE   DAYS_BIRTH DAYS_EMPLOYED FLAG_MOBIL\n",
       "1  Single / not married Municipal apartment -10574       -126        1         \n",
       "2  Single / not married Municipal apartment -10574       -126        1         \n",
       "3  Married              House / apartment   -12108      -1379        1         \n",
       "4  Married              House / apartment   -12108      -1379        1         \n",
       "5  Civil marriage       House / apartment   -14708      -1679        1         \n",
       "6  Civil marriage       House / apartment   -14708      -1679        1         \n",
       "7  Civil marriage       House / apartment   -16857      -1682        1         \n",
       "8  Civil marriage       House / apartment   -16857      -1682        1         \n",
       "9  Married              House / apartment   -16907       -429        1         \n",
       "10 Married              House / apartment   -16907       -429        1         \n",
       "11 Widow                House / apartment   -16997       -280        1         \n",
       "12 Widow                House / apartment   -16997       -280        1         \n",
       "13 Married              House / apartment   -20794      -1805        1         \n",
       "14 Married              House / apartment   -20794      -1805        1         \n",
       "15 Single / not married Rented apartment    -21942     365243        1         \n",
       "16 Single / not married Rented apartment    -21942     365243        1         \n",
       "   FLAG_WORK_PHONE FLAG_PHONE FLAG_EMAIL OCCUPATION_TYPE CNT_FAM_MEMBERS count\n",
       "1  0               0          0          Drivers         1               2    \n",
       "2  0               0          0          Drivers         1               2    \n",
       "3  0               0          0          Sales staff     3               2    \n",
       "4  0               0          0          Sales staff     3               2    \n",
       "5  0               1          0          Laborers        4               2    \n",
       "6  0               1          0          Laborers        4               2    \n",
       "7  0               0          1          Managers        2               2    \n",
       "8  0               0          1          Managers        2               2    \n",
       "9  0               0          0          Secretaries     2               2    \n",
       "10 0               0          0          Secretaries     2               2    \n",
       "11 1               1          0                          2               2    \n",
       "12 1               1          0                          2               2    \n",
       "13 0               0          1          Drivers         2               2    \n",
       "14 0               0          1          Drivers         2               2    \n",
       "15 0               0          0                          1               2    \n",
       "16 0               0          0                          1               2    "
      ]
     },
     "metadata": {},
     "output_type": "display_data"
    }
   ],
   "source": [
    "# 查看重复值\n",
    "dup_id <- app_data %>% group_by(ID) %>% mutate(count = n()) %>% filter(count > 1) %>% ungroup()\n",
    "dup_id"
   ]
  },
  {
   "cell_type": "code",
   "execution_count": 5,
   "metadata": {},
   "outputs": [
    {
     "data": {
      "text/html": [
       "<ol>\n",
       "\t<li>'AMT_INCOME_TOTAL'</li>\n",
       "\t<li>'AMT_INCOME_TOTAL'</li>\n",
       "\t<li>'AMT_INCOME_TOTAL'</li>\n",
       "</ol>\n"
      ],
      "text/latex": [
       "\\begin{enumerate}\n",
       "\\item 'AMT\\_INCOME\\_TOTAL'\n",
       "\\item 'AMT\\_INCOME\\_TOTAL'\n",
       "\\item 'AMT\\_INCOME\\_TOTAL'\n",
       "\\end{enumerate}\n"
      ],
      "text/markdown": [
       "1. 'AMT_INCOME_TOTAL'\n",
       "2. 'AMT_INCOME_TOTAL'\n",
       "3. 'AMT_INCOME_TOTAL'\n",
       "\n",
       "\n"
      ],
      "text/plain": [
       "[[1]]\n",
       "[1] \"AMT_INCOME_TOTAL\"\n",
       "\n",
       "[[2]]\n",
       "[1] \"AMT_INCOME_TOTAL\"\n",
       "\n",
       "[[3]]\n",
       "[1] \"AMT_INCOME_TOTAL\"\n"
      ]
     },
     "metadata": {},
     "output_type": "display_data"
    }
   ],
   "source": [
    "dup_data <- dup_id[!duplicated(dup_id),]\n",
    "\n",
    "# 因为已经group过，所以每一个ID重复的数据都和它的上一条数据做对比\n",
    "diff_col <- list()\n",
    "for (i in which(duplicated(dup_data$ID,))) {\n",
    "  diff_col <- append(diff_col, colnames(dup_data)[which(dup_data[i, ] != dup_data[(i-1), ])])\n",
    "}\n",
    "\n",
    "# 查看相同ID的数据哪些字段取值不同\n",
    "diff_col"
   ]
  },
  {
   "cell_type": "code",
   "execution_count": 6,
   "metadata": {},
   "outputs": [
    {
     "data": {
      "text/html": [
       "4050"
      ],
      "text/latex": [
       "4050"
      ],
      "text/markdown": [
       "4050"
      ],
      "text/plain": [
       "[1] 4050"
      ]
     },
     "metadata": {},
     "output_type": "display_data"
    }
   ],
   "source": [
    "# 发现其余3条ID重复的数据均在AMT_INCOME_TOTAL上有差异，查看发现都是少了一位0，\n",
    "# 判断为数据采集或者录入错误，删除ID重复数据。\n",
    "app_data <- app_data[!duplicated(app_data$ID), ]\n",
    "nrow(app_data)"
   ]
  },
  {
   "cell_type": "markdown",
   "metadata": {},
   "source": [
    "说明：去重之后的客户表(app_data)含有4050条数据，18个特征。"
   ]
  },
  {
   "cell_type": "markdown",
   "metadata": {},
   "source": [
    "**2. 交易表(app_data)处理思路**\n",
    "\n",
    "trans中账户号不具有唯一性，因为一个账户可以进行多次交易，只需查看是否有整条重复数据。"
   ]
  },
  {
   "cell_type": "code",
   "execution_count": 7,
   "metadata": {},
   "outputs": [
    {
     "name": "stdout",
     "output_type": "stream",
     "text": [
      "[1] \"trans中的记录条数: 1056214\"\n",
      "[1] \"trans中发起交易的账户数: 4491\"\n"
     ]
    }
   ],
   "source": [
    "trans <- trans[!duplicated(trans), ]\n",
    "print(paste(\"trans中的记录条数:\", nrow(trans)))\n",
    "\n",
    "print(paste(\"trans中发起交易的账户数:\", length(unique(trans$account_id))))"
   ]
  },
  {
   "cell_type": "markdown",
   "metadata": {},
   "source": [
    "说明：去重之后的交易表(trans)共计4491个账户发起了1056214次交易，含10个特征，其中字段account和bank意义不明，后续考虑删除。"
   ]
  },
  {
   "cell_type": "markdown",
   "metadata": {},
   "source": [
    "### **Step 3: 了解数据**\n",
    "\n",
    "**Q1.** 尝试对项目中提供的数据进行单变量诊断，生成诊断检查统计表.\n",
    "\n",
    "**1. 客户表处理事项**：针对app_data进行单变量诊断，将结果输出保存到文件中。\n",
    "\n",
    "R中有很多函数支持数据概览，`mlr`包中的`summarizeColumns()`函数输出结果更全面，也更易读，输出内容包含变量名，变量类型，缺失值数量，均值，中位数，标准差，最大值，最小值等等。"
   ]
  },
  {
   "cell_type": "code",
   "execution_count": 8,
   "metadata": {},
   "outputs": [],
   "source": [
    "summary_app <- summarizeColumns(app_data)"
   ]
  },
  {
   "cell_type": "markdown",
   "metadata": {},
   "source": [
    "**(1) 分类变量**"
   ]
  },
  {
   "cell_type": "code",
   "execution_count": 9,
   "metadata": {},
   "outputs": [],
   "source": [
    "# 查找分类变量\n",
    "cate_feature_app <- summary_app$name[summary_app$type == \"character\"]\n",
    "FLAG <- colnames(app_data)[grep(\"FLAG\", colnames(app_data))]\n",
    "cate_feature_app <- union(cate_feature_app, FLAG)\n",
    "\n",
    "# 分类变量的汇总情况输出保存至文件summary_cate.txt.\n",
    "for (fea in cate_feature_app) {\n",
    "  sink(paste(sw, \"summary_cate.txt\", sep = \"/\"), append = TRUE)\n",
    "  cat(\"The distribution of\", fea, \": \\n\")\n",
    "  count <- table(app_data[[fea]], useNA = \"ifany\")\n",
    "  tab <- cbind(count = count, \n",
    "               freq  = round(count / nrow(app_data), 3))\n",
    "  tab <- as.data.frame(tab)\n",
    "  print(tab)\n",
    "  cat(\"\\n\")\n",
    "  sink()\n",
    "}"
   ]
  },
  {
   "cell_type": "markdown",
   "metadata": {},
   "source": [
    "汇总分类变量的频次与百分比：\n",
    "\n",
    "| 变量名        | 类别        | 计数    | 频率        |\n",
    "|:------------------|:----------------|:----------|:-----------------|\n",
    "|    性别       | - 男       | - 1387   |  - 65.8%    |\n",
    "|             | - 女       | - 2663   |  - 34.2%    |\n",
    "| 是否有车      | - 否       |  2531   |  62.5%     |\n",
    "|               | - 是       |  1519   |  37.5%     |\n",
    "| 是否有房产    | - 否       |  1260   |  31.1%     |\n",
    "|               | - 是       |  2790   |  68.9%     |\n",
    "| 收入类别      | - 商业     |  905    | 22.3%    |\n",
    "|               | - 退休金   |  719    | 17.8%    |\n",
    "|               | - 公务员   |   328    | 8.1%     |\n",
    "|               | - 务工     |  2098   | 51.8%    |\n",
    "| 教育程度      | - 学位     |  4      | 0.1%     |\n",
    "|               | - 高中     |  1058   | 26.1%    |\n",
    "|               | - 高中肄业 |  140    | 3.5%     |\n",
    "|               | - 初中     |  42     | 1.0%     |\n",
    "|               | - 初中专项 |  2806   | 69.3%    |\n",
    "| 婚姻状态      | - 公证婚姻 |  355    | 8.8%     |\n",
    "|               | - 已婚     |  2750   | 67.9%    |\n",
    "|               | - 离异     |  237    | 5.9%     |\n",
    "|               | - 未婚     |  544    | 13.4%    |\n",
    "|               | - 丧偶     |  164    | 4.0%     |\n",
    "| 居住方式      | - 合住公寓 |  13     | 0.3%     |\n",
    "|               | - 公寓     |  3652   | 90.2%    |\n",
    "|               | - 市政公寓 |  127    | 3.1%     |\n",
    "|               | - 写字楼   |  42     | 1.0%     |\n",
    "|               | - 租房     |  60     | 1.5%     |\n",
    "|               | - 与父母同住| 156    | 3.9%     |\n",
    "| 职业类型      | - 会计师    | 150    | 3.7%     |\n",
    "|               | - 清洁工    | 39     | 1.0%     |\n",
    "|               | - 厨师      | 51     | 1.3%     |\n",
    "|               | - 核心员工  | 386    | 9.5%     |\n",
    "|               | - 司机      | 229    | 5.7%     |\n",
    "|               | - 高级技工  | 174    | 4.3%     |\n",
    "|               | - 人力资源  | 7      | 0.2%     |\n",
    "|               | - 互联网    | 5      | 0.1%     |\n",
    "|               | - 工人      | 708    | 17.5%    |\n",
    "|               | - 低技能工人| 17     | 0.4%     |\n",
    "|               | - 管理者    | 338    | 8.3%     |\n",
    "|               | - 医务工作者| 104    | 2.6%     |\n",
    "|               | - 私人服务者| 37     | 0.9%     |\n",
    "|               | - 不动产代理人 |2      | 0.0%     |\n",
    "|               | - 销售人员   |384    | 9.5%     |\n",
    "|               | - 秘书        |21     |0.5%     |\n",
    "|               | - 安保人员    |83     |2.0%     |\n",
    "|               | - 服务员      |16     |0.4%     |\n",
    "|               | - 未知        |1299   |32.1%    |\n",
    "| 是否有手机    | - 否          |0      |0.0%     |\n",
    "|               | - 是          |4050   |100.0%   |\n",
    "| 是否有工作电话| - 否          |3223   |79.6%    |\n",
    "|               | - 是          |827    |20.4%    |\n",
    "| 是否有电话    | - 否          |2905   |71.7%    |\n",
    "|               | - 是          |1145   |28.3%    |\n",
    "| 是否有Email       | - 否          |3601   |88.9%    |\n",
    "|               | - 是          |449    |11.1%    |\n",
    "\n",
    "\n",
    "根据该表来看，除了“职业类型”有30%以上的未知类型，其余变量没有缺失值和未知值。 客户中男性占比较高，且多数申请人无房或无车，务工群体占一半，教育程度偏低。 其中，“居住方式”的分布严重倾斜，90%以上是公寓房，后续需要合并类别或删除； “是否有手机”是常数变量，在后续处理中需要删除。"
   ]
  },
  {
   "cell_type": "markdown",
   "metadata": {},
   "source": [
    "**(2)连续变量**"
   ]
  },
  {
   "cell_type": "code",
   "execution_count": 10,
   "metadata": {},
   "outputs": [],
   "source": [
    "# 查找连续变量\n",
    "cont_feature_app <- setdiff(colnames(app_data), c(cate_feature_app, \"ID\")) # exclude ID\n",
    "# summary_app[summary_app$name %in% cont_feature_app, ]\n",
    "\n",
    "# 连续变量的汇总情况输出保存至文件summary_cont.csv.\n",
    "write.csv(summary_app[summary_app$name %in% cont_feature_app, ], \n",
    "            file = paste(sw, \"summary_cont.csv\", sep = \"/\"), \n",
    "            row.names = FALSE)"
   ]
  },
  {
   "cell_type": "markdown",
   "metadata": {},
   "source": [
    "汇总连续变量的描述性统计特征： \n",
    "\n",
    "|  变量名       |  缺失样本数  | 均值   |   标准差   |  中位数   |   最小值   |    最大值 |\n",
    "|----------------- |-------------|----------|------------- |-------------|-------------|-----------|\n",
    "| 孩子个数      | \t  0    |     0.41\t |    0.70       |    0         |   0\t      |     4      |\n",
    "| 年总收入      | \t 0     |  191048.20  | 148035.07     |162000        |   27000     |  6750000   |\n",
    "| 生日          |     0\t | -16107.04 |  4159.09      |  -15875.5      |   -25080    |      -8050 |\n",
    "| 开始工作日期  |    0     |   62348.55\t |140281.54   |-1460.5        |  -16220       |365243    |\n",
    "| 家庭人数      |    0     |      2.18\t |   0.87        |   2          |     1       |     6    |\n",
    "\n",
    " 从上表看出，连续变量数据完整，没有缺失。申请人多数是没有孩子的, “年总收入”平均在19万左右，但是差异明显，其中最小值为2.7万，最大的有675万。"
   ]
  },
  {
   "cell_type": "markdown",
   "metadata": {},
   "source": [
    "**2. 交易表处理事项**：针对trans进行单变量诊断，将结果输出保存到文件中。过程同上。"
   ]
  },
  {
   "cell_type": "code",
   "execution_count": 11,
   "metadata": {},
   "outputs": [
    {
     "name": "stderr",
     "output_type": "stream",
     "text": [
      "Warning message in mde(x):\n",
      "\"强制改变过程中产生了NA\"\n"
     ]
    }
   ],
   "source": [
    "summary_trans <- summarizeColumns(trans)\n",
    "\n",
    "# 查找分类变量\n",
    "cate_feature_trans <- summary_trans$name[summary_trans$type == \"character\"]\n",
    "\n",
    "# 分类变量的汇总情况输出保存至summary_cate_trans.txt\n",
    "for (fea in cate_feature_trans) {\n",
    "  sink(paste(sw, \"summary_cate_trans.txt\", sep = \"/\"), append = TRUE)\n",
    "  cat(\"The distribution of\", fea, \": \\n\")\n",
    "  count <- table(trans[[fea]], useNA = \"ifany\")\n",
    "  tab <- cbind(count = count, \n",
    "               freq  = round(count / nrow(trans), 3))\n",
    "  tab <- as.data.frame(tab)\n",
    "  print(tab)\n",
    "  cat(\"\\n\")\n",
    "  sink()\n",
    "}\n",
    "\n",
    "# 查找连续变量\n",
    "cont_feature_trans <- setdiff(colnames(trans), c(cate_feature_trans, \"trans_id\", \"account_id\", \"date\")) \n",
    "# summary_trans[summary_trans$name %in% cont_feature_trans, ]\n",
    "\n",
    "# 连续变量的汇总情况输出保存至文件summary_cont_trans.csv.\n",
    "write.csv(summary_trans[summary_trans$name %in% cont_feature_trans, ], \n",
    "          file = paste(sw, \"summary_cont_trans.csv\", sep = \"/\"), \n",
    "          row.names = FALSE)"
   ]
  },
  {
   "cell_type": "markdown",
   "metadata": {},
   "source": [
    "汇总trans表中分类变量的频次与百分比：\n",
    "\n",
    "| 变量名        | 类别          | 计数        | 频率        |\n",
    "|:------------------|:------------------|:------------|:-------------------|\n",
    "| 借贷类型      | - 贷方        |   421677    |    39.9%    |\n",
    "|  (type)        | -  借方        |   634537    |    60.1%    |\n",
    "| 交易类型      | -  现金        |   434884    |   41.2%     |\n",
    "| (operation)      | -  信用卡      |   8036      |   8.0%      |\n",
    "|               |  - 收款        |   65226     |   6.2%      |\n",
    "|               |   - 贷款        |   156671    |   14.8%     |\n",
    "|               |   - 汇款        |   208283    |   19.7%     |\n",
    "|               |   - 未知        |   183114    |   17.3%     |\n",
    "| 交易特征      |   - 养老金      |   30338     |   2.9%      |\n",
    "| (k_symbol)     |    - 支付         |   155832    |   14.8%     |\n",
    "|               |   - 保险交易    |   18500     |   1.7%      |\n",
    "|               |  - 利息        |   184691    |   17.5%     |\n",
    "|               |   - 贷款交易    |   13580     |   1.3%      |\n",
    "|               |   - 房贷        |   118065    |   11.2%     |\n",
    "|               |   - 未知        |   535208    |   50.6%     |\n",
    "| 银行          |   - AB          |   21720     |   2.1%      |\n",
    "| (bank)         |    - CD          |   19597     |   1.9%      |\n",
    "|               |   - EF          |   21293     |   2.0%      |\n",
    "|               |  - GH          |   21499     |   2.0%      |\n",
    "|               |  - IJ          |   20525     |   1.9%      |\n",
    "|               |  - KL          |   21234     |   2.0%      |\n",
    "|               |  - MN          |   19623     |   1.9%      |\n",
    "|               |  - OP          |   21094     |   2.0%      |\n",
    "|               |  - QR          |   22285     |   2.1%      |\n",
    "|               |  - ST          |   21711     |   2.1%      |\n",
    "|               |  - UV          |   21167     |   2.0%      |\n",
    "|               |  - WX          |   20178     |   1.9%      |\n",
    "|               |  - YZ          |   21582     |   2.0%      |\n",
    "|               |  - 未知        |   782706    |   74.1%     |\n",
    "\n",
    "\n",
    "根据该表，交易表中带来类型以借方类型较多，交易类型以现金交易最多，信用卡和收款交易较少。“交易特征”有50%以上的未知量，该特征很重要，保留未知量。“银行”有74%的未知特征，由于该字段表意不明且未知数过多，后续建模考虑删除。\n",
    "\n",
    "\n",
    "**(2)** 连续变量的统计量汇总如下。\n",
    "\n",
    "|  变量名   |  缺失样本数    |  均值    |    标准差    |    中位数  | 最小值   |    最大值  |\n",
    "|:-----------:|:----------------:|:----------:|:------------:|:------------:|:---------:|:-----------:|   \n",
    "|   账目\t  |  760825(72%)\t| 45670919\t  |30663397\t|   45750951     |  0\t    |  99994199 |\n",
    "|   金额   |    0\t       |  5924.50\t  |  9523.08\t|  2100\t      |    0\t |  87400  |\n",
    "|  账户余额  |    0\t       |  38520.48\t  |22117.85\t   |  33146\t      |-41126\t  | 209637  |\n",
    "  \n",
    "  \n",
    "账目(account)是一种数字编码，取值不表示大小，该字段本身字段没有意义，且有70%以上的数据缺失，在后续建模中可以剔除。重点关注金额和账户余额两个特征。\"交易金额\"约有一半的交易金额实际上小于2100，最大值达到87400， 分布明显右偏。\"账户余额\"跨度大，分布右偏，余额为负的客户不多, 个别账户具有高余额。\n"
   ]
  },
  {
   "cell_type": "markdown",
   "metadata": {},
   "source": [
    "**Q2:** 分析app_data和trans中ID分布的匹配程度，即两张表中共同出现ID的个数，以及只在各自数据集中出现的ID个数。\n",
    "\n",
    "**思路：** 统计只在客户表(app_data)或交易表(trans)中出现的账户号account_id, 参照link_table中的两个字段ID和account_id，进行表格间的连接。\n",
    "首先将客户表(app_data)与link_table内连接，匹配出客户表中的account_id. "
   ]
  },
  {
   "cell_type": "code",
   "execution_count": 12,
   "metadata": {},
   "outputs": [
    {
     "name": "stdout",
     "output_type": "stream",
     "text": [
      "[1] \"the account_id only appear in app_data: 8\"\n",
      "[1] \"the account_id only appear in trans: 449\"\n",
      "[1] \"the account_id appear in both data: 4042\"\n"
     ]
    }
   ],
   "source": [
    "# 参照link_table做表格内连接\n",
    "app_join_link <- inner_join(app_data, link_table, by = \"ID\") %>% \n",
    "  select(ID, account_id, everything())\n",
    "\n",
    "# 在客户表中出现且没有在交易表中出现的account_id,说明只有客户号，没有交易过。\n",
    "app_no_trans <- setdiff(app_join_link$account_id,trans$account_id)\n",
    "print(paste(\"the account_id only appear in app_data:\", length(app_no_trans)))\n",
    "\n",
    "# 在交易表中出现但没有在申请表中出现的account_id,说明没有开账户就进行了交易。\n",
    "trans_no_app <- setdiff(trans$account_id, app_join_link$account_id)\n",
    "print(paste(\"the account_id only appear in trans:\", length(trans_no_app)))\n",
    "\n",
    "# 在两张表中都出现的account_id数量\n",
    "trans_with_app <- intersect(trans$account_id, app_join_link$account_id)\n",
    "print(paste(\"the account_id appear in both data:\", length(trans_with_app)))"
   ]
  },
  {
   "cell_type": "markdown",
   "metadata": {},
   "source": [
    "汇总成表：\n",
    "   \n",
    " |  表名        | account_id计数 |        \n",
    " |-----------------|----------------|   \n",
    " |只在客户表中出现 |      8\t    |\n",
    " |只在交易表中出现 |     449    |\n",
    " |同时出现       |\t    4042   |\n",
    " \n",
    "在客户表中出现但没有在交易表中出现的account_id有8个，说明这8位客户没有交易过。然而有449个账户在客户表并没有申请记录且进行了交易，存在异常，在后续建模中考虑删除。另外的4042个账户都是开通后进行正常交易的，是在后续建模可以正常使用的数据。"
   ]
  },
  {
   "cell_type": "markdown",
   "metadata": {},
   "source": [
    "**Q3:** 诊断数据中的异常值。\n",
    "\n",
    "我们将异常值定义为在均值的3倍标准差之外的值，对客户表和交易表中的连续变量进行异常值识别。"
   ]
  },
  {
   "cell_type": "code",
   "execution_count": 13,
   "metadata": {},
   "outputs": [],
   "source": [
    "find_outliers <- function(data, fea) {\n",
    "  \n",
    "  data_mean  <- mean(data[[fea]])\n",
    "  lower_rule <- data_mean - sd(data[[fea]]) * 3\n",
    "  upper_rule <- data_mean + sd(data[[fea]]) * 3\n",
    "  outliers_ind <- (data[[fea]] > upper_rule) | (data[[fea]] < lower_rule)\n",
    "\n",
    "  return(which(outliers_ind))\n",
    "}"
   ]
  },
  {
   "cell_type": "markdown",
   "metadata": {},
   "source": [
    "**1. 客户表(app_data)连续型数据诊断：**"
   ]
  },
  {
   "cell_type": "code",
   "execution_count": 14,
   "metadata": {},
   "outputs": [
    {
     "data": {
      "text/html": [
       "<dl>\n",
       "\t<dt>$CNT_CHILDREN</dt>\n",
       "\t\t<dd>54</dd>\n",
       "\t<dt>$AMT_INCOME_TOTAL</dt>\n",
       "\t\t<dd>28</dd>\n",
       "\t<dt>$DAYS_BIRTH</dt>\n",
       "\t\t<dd>0</dd>\n",
       "\t<dt>$DAYS_EMPLOYED</dt>\n",
       "\t\t<dd>0</dd>\n",
       "\t<dt>$CNT_FAM_MEMBERS</dt>\n",
       "\t\t<dd>53</dd>\n",
       "</dl>\n"
      ],
      "text/latex": [
       "\\begin{description}\n",
       "\\item[\\$CNT\\_CHILDREN] 54\n",
       "\\item[\\$AMT\\_INCOME\\_TOTAL] 28\n",
       "\\item[\\$DAYS\\_BIRTH] 0\n",
       "\\item[\\$DAYS\\_EMPLOYED] 0\n",
       "\\item[\\$CNT\\_FAM\\_MEMBERS] 53\n",
       "\\end{description}\n"
      ],
      "text/markdown": [
       "$CNT_CHILDREN\n",
       ":   54\n",
       "$AMT_INCOME_TOTAL\n",
       ":   28\n",
       "$DAYS_BIRTH\n",
       ":   0\n",
       "$DAYS_EMPLOYED\n",
       ":   0\n",
       "$CNT_FAM_MEMBERS\n",
       ":   53\n",
       "\n",
       "\n"
      ],
      "text/plain": [
       "$CNT_CHILDREN\n",
       "[1] 54\n",
       "\n",
       "$AMT_INCOME_TOTAL\n",
       "[1] 28\n",
       "\n",
       "$DAYS_BIRTH\n",
       "[1] 0\n",
       "\n",
       "$DAYS_EMPLOYED\n",
       "[1] 0\n",
       "\n",
       "$CNT_FAM_MEMBERS\n",
       "[1] 53\n"
      ]
     },
     "metadata": {},
     "output_type": "display_data"
    },
    {
     "name": "stdout",
     "output_type": "stream",
     "text": [
      "outlier values of CNT_CHILDREN: 3 4 \n",
      "outlier values of CNT_FAM_MEMBERS: 5 6 \n",
      "outlier values of AMT_INCOME_TOTAL: 675000 810000 652500 990000 1350000 1125000 742500 720000 9e+05 765000 787500 828000 1575000 6750000 \n"
     ]
    }
   ],
   "source": [
    "# 针对app_data\n",
    "app_cont_outlier <- list()\n",
    "for (f in 1:length(cont_feature_app)) {\n",
    "  app_cont_outlier[[f]] <- find_outliers(app_data, cont_feature_app[f])\n",
    "} \n",
    "names(app_cont_outlier) <- cont_feature_app\n",
    "lapply(app_cont_outlier, function(item) {length(item)})\n",
    "\n",
    "cat(\"outlier values of CNT_CHILDREN:\", unique(app_data$CNT_CHILDREN[app_cont_outlier[[\"CNT_CHILDREN\"]]]), \"\\n\")\n",
    "cat(\"outlier values of CNT_FAM_MEMBERS:\", unique(app_data$CNT_FAM_MEMBERS[app_cont_outlier[[\"CNT_FAM_MEMBERS\"]]]), \"\\n\")\n",
    "cat(\"outlier values of AMT_INCOME_TOTAL:\", unique(app_data$AMT_INCOME_TOTAL[app_cont_outlier[[\"AMT_INCOME_TOTAL\"]]]), \"\\n\")"
   ]
  },
  {
   "cell_type": "markdown",
   "metadata": {},
   "source": [
    "分析“小孩个数”和“家庭人数”两个字段。大多数客户拥有在2个或2个以下的孩子，仅54人有3个或3个以上的孩子。“家庭人数”与“孩子个数”保持一致，除一位40岁男性申请人，未婚但有3个孩子，但该客户在交易表中没有交易记录, 对交易数据的分析不会产生影响。\n",
    "\n",
    "分析\"年总收入\"。绘制\"年总收入\"的密度图，发现数据严重右偏，拖尾严重： "
   ]
  },
  {
   "cell_type": "code",
   "execution_count": 15,
   "metadata": {},
   "outputs": [
    {
     "data": {
      "image/png": "[encoded data removed]",
      "text/plain": [
       "plot without title"
      ]
     },
     "metadata": {
      "image/png": {
       "height": 420,
       "width": 420
      }
     },
     "output_type": "display_data"
    }
   ],
   "source": [
    "library(ggplot2)\n",
    "ggplot(data = app_data) +  geom_density(mapping = aes(x = AMT_INCOME_TOTAL)) "
   ]
  },
  {
   "cell_type": "markdown",
   "metadata": {},
   "source": [
    "下面检查**年总收入最值**的合理性。"
   ]
  },
  {
   "cell_type": "code",
   "execution_count": 16,
   "metadata": {},
   "outputs": [
    {
     "name": "stdout",
     "output_type": "stream",
     "text": [
      "[1] \"年总收入最小的客户信息：\"\n"
     ]
    },
    {
     "data": {
      "text/html": [
       "<table>\n",
       "<caption>A tibble: 1 × 18</caption>\n",
       "<thead>\n",
       "\t<tr><th scope=col>ID</th><th scope=col>CODE_GENDER</th><th scope=col>FLAG_OWN_CAR</th><th scope=col>FLAG_OWN_REALTY</th><th scope=col>CNT_CHILDREN</th><th scope=col>AMT_INCOME_TOTAL</th><th scope=col>NAME_INCOME_TYPE</th><th scope=col>NAME_EDUCATION_TYPE</th><th scope=col>NAME_FAMILY_STATUS</th><th scope=col>NAME_HOUSING_TYPE</th><th scope=col>DAYS_BIRTH</th><th scope=col>DAYS_EMPLOYED</th><th scope=col>FLAG_MOBIL</th><th scope=col>FLAG_WORK_PHONE</th><th scope=col>FLAG_PHONE</th><th scope=col>FLAG_EMAIL</th><th scope=col>OCCUPATION_TYPE</th><th scope=col>CNT_FAM_MEMBERS</th></tr>\n",
       "\t<tr><th scope=col>&lt;int&gt;</th><th scope=col>&lt;chr&gt;</th><th scope=col>&lt;chr&gt;</th><th scope=col>&lt;chr&gt;</th><th scope=col>&lt;int&gt;</th><th scope=col>&lt;dbl&gt;</th><th scope=col>&lt;chr&gt;</th><th scope=col>&lt;chr&gt;</th><th scope=col>&lt;chr&gt;</th><th scope=col>&lt;chr&gt;</th><th scope=col>&lt;int&gt;</th><th scope=col>&lt;int&gt;</th><th scope=col>&lt;int&gt;</th><th scope=col>&lt;int&gt;</th><th scope=col>&lt;int&gt;</th><th scope=col>&lt;int&gt;</th><th scope=col>&lt;chr&gt;</th><th scope=col>&lt;int&gt;</th></tr>\n",
       "</thead>\n",
       "<tbody>\n",
       "\t<tr><td>5213636</td><td>F</td><td>N</td><td>N</td><td>0</td><td>27000</td><td>Pensioner</td><td>Secondary / secondary special</td><td>Widow</td><td>House / apartment</td><td>-20935</td><td>365243</td><td>1</td><td>0</td><td>0</td><td>0</td><td></td><td>1</td></tr>\n",
       "</tbody>\n",
       "</table>\n"
      ],
      "text/latex": [
       "A tibble: 1 × 18\n",
       "\\begin{tabular}{llllllllllllllllll}\n",
       " ID & CODE\\_GENDER & FLAG\\_OWN\\_CAR & FLAG\\_OWN\\_REALTY & CNT\\_CHILDREN & AMT\\_INCOME\\_TOTAL & NAME\\_INCOME\\_TYPE & NAME\\_EDUCATION\\_TYPE & NAME\\_FAMILY\\_STATUS & NAME\\_HOUSING\\_TYPE & DAYS\\_BIRTH & DAYS\\_EMPLOYED & FLAG\\_MOBIL & FLAG\\_WORK\\_PHONE & FLAG\\_PHONE & FLAG\\_EMAIL & OCCUPATION\\_TYPE & CNT\\_FAM\\_MEMBERS\\\\\n",
       " <int> & <chr> & <chr> & <chr> & <int> & <dbl> & <chr> & <chr> & <chr> & <chr> & <int> & <int> & <int> & <int> & <int> & <int> & <chr> & <int>\\\\\n",
       "\\hline\n",
       "\t 5213636 & F & N & N & 0 & 27000 & Pensioner & Secondary / secondary special & Widow & House / apartment & -20935 & 365243 & 1 & 0 & 0 & 0 &  & 1\\\\\n",
       "\\end{tabular}\n"
      ],
      "text/markdown": [
       "\n",
       "A tibble: 1 × 18\n",
       "\n",
       "| ID &lt;int&gt; | CODE_GENDER &lt;chr&gt; | FLAG_OWN_CAR &lt;chr&gt; | FLAG_OWN_REALTY &lt;chr&gt; | CNT_CHILDREN &lt;int&gt; | AMT_INCOME_TOTAL &lt;dbl&gt; | NAME_INCOME_TYPE &lt;chr&gt; | NAME_EDUCATION_TYPE &lt;chr&gt; | NAME_FAMILY_STATUS &lt;chr&gt; | NAME_HOUSING_TYPE &lt;chr&gt; | DAYS_BIRTH &lt;int&gt; | DAYS_EMPLOYED &lt;int&gt; | FLAG_MOBIL &lt;int&gt; | FLAG_WORK_PHONE &lt;int&gt; | FLAG_PHONE &lt;int&gt; | FLAG_EMAIL &lt;int&gt; | OCCUPATION_TYPE &lt;chr&gt; | CNT_FAM_MEMBERS &lt;int&gt; |\n",
       "|---|---|---|---|---|---|---|---|---|---|---|---|---|---|---|---|---|---|\n",
       "| 5213636 | F | N | N | 0 | 27000 | Pensioner | Secondary / secondary special | Widow | House / apartment | -20935 | 365243 | 1 | 0 | 0 | 0 | <!----> | 1 |\n",
       "\n"
      ],
      "text/plain": [
       "  ID      CODE_GENDER FLAG_OWN_CAR FLAG_OWN_REALTY CNT_CHILDREN\n",
       "1 5213636 F           N            N               0           \n",
       "  AMT_INCOME_TOTAL NAME_INCOME_TYPE NAME_EDUCATION_TYPE          \n",
       "1 27000            Pensioner        Secondary / secondary special\n",
       "  NAME_FAMILY_STATUS NAME_HOUSING_TYPE DAYS_BIRTH DAYS_EMPLOYED FLAG_MOBIL\n",
       "1 Widow              House / apartment -20935     365243        1         \n",
       "  FLAG_WORK_PHONE FLAG_PHONE FLAG_EMAIL OCCUPATION_TYPE CNT_FAM_MEMBERS\n",
       "1 0               0          0                          1              "
      ]
     },
     "metadata": {},
     "output_type": "display_data"
    },
    {
     "name": "stdout",
     "output_type": "stream",
     "text": [
      "[1] \"年总收入最大的客户信息：\"\n"
     ]
    },
    {
     "data": {
      "text/html": [
       "<table>\n",
       "<caption>A tibble: 1 × 18</caption>\n",
       "<thead>\n",
       "\t<tr><th scope=col>ID</th><th scope=col>CODE_GENDER</th><th scope=col>FLAG_OWN_CAR</th><th scope=col>FLAG_OWN_REALTY</th><th scope=col>CNT_CHILDREN</th><th scope=col>AMT_INCOME_TOTAL</th><th scope=col>NAME_INCOME_TYPE</th><th scope=col>NAME_EDUCATION_TYPE</th><th scope=col>NAME_FAMILY_STATUS</th><th scope=col>NAME_HOUSING_TYPE</th><th scope=col>DAYS_BIRTH</th><th scope=col>DAYS_EMPLOYED</th><th scope=col>FLAG_MOBIL</th><th scope=col>FLAG_WORK_PHONE</th><th scope=col>FLAG_PHONE</th><th scope=col>FLAG_EMAIL</th><th scope=col>OCCUPATION_TYPE</th><th scope=col>CNT_FAM_MEMBERS</th></tr>\n",
       "\t<tr><th scope=col>&lt;int&gt;</th><th scope=col>&lt;chr&gt;</th><th scope=col>&lt;chr&gt;</th><th scope=col>&lt;chr&gt;</th><th scope=col>&lt;int&gt;</th><th scope=col>&lt;dbl&gt;</th><th scope=col>&lt;chr&gt;</th><th scope=col>&lt;chr&gt;</th><th scope=col>&lt;chr&gt;</th><th scope=col>&lt;chr&gt;</th><th scope=col>&lt;int&gt;</th><th scope=col>&lt;int&gt;</th><th scope=col>&lt;int&gt;</th><th scope=col>&lt;int&gt;</th><th scope=col>&lt;int&gt;</th><th scope=col>&lt;int&gt;</th><th scope=col>&lt;chr&gt;</th><th scope=col>&lt;int&gt;</th></tr>\n",
       "</thead>\n",
       "<tbody>\n",
       "\t<tr><td>5987964</td><td>M</td><td>Y</td><td>N</td><td>0</td><td>6750000</td><td>Working</td><td>Higher education</td><td>Married</td><td>House / apartment</td><td>-19341</td><td>-443</td><td>1</td><td>1</td><td>1</td><td>0</td><td>Laborers</td><td>2</td></tr>\n",
       "</tbody>\n",
       "</table>\n"
      ],
      "text/latex": [
       "A tibble: 1 × 18\n",
       "\\begin{tabular}{llllllllllllllllll}\n",
       " ID & CODE\\_GENDER & FLAG\\_OWN\\_CAR & FLAG\\_OWN\\_REALTY & CNT\\_CHILDREN & AMT\\_INCOME\\_TOTAL & NAME\\_INCOME\\_TYPE & NAME\\_EDUCATION\\_TYPE & NAME\\_FAMILY\\_STATUS & NAME\\_HOUSING\\_TYPE & DAYS\\_BIRTH & DAYS\\_EMPLOYED & FLAG\\_MOBIL & FLAG\\_WORK\\_PHONE & FLAG\\_PHONE & FLAG\\_EMAIL & OCCUPATION\\_TYPE & CNT\\_FAM\\_MEMBERS\\\\\n",
       " <int> & <chr> & <chr> & <chr> & <int> & <dbl> & <chr> & <chr> & <chr> & <chr> & <int> & <int> & <int> & <int> & <int> & <int> & <chr> & <int>\\\\\n",
       "\\hline\n",
       "\t 5987964 & M & Y & N & 0 & 6750000 & Working & Higher education & Married & House / apartment & -19341 & -443 & 1 & 1 & 1 & 0 & Laborers & 2\\\\\n",
       "\\end{tabular}\n"
      ],
      "text/markdown": [
       "\n",
       "A tibble: 1 × 18\n",
       "\n",
       "| ID &lt;int&gt; | CODE_GENDER &lt;chr&gt; | FLAG_OWN_CAR &lt;chr&gt; | FLAG_OWN_REALTY &lt;chr&gt; | CNT_CHILDREN &lt;int&gt; | AMT_INCOME_TOTAL &lt;dbl&gt; | NAME_INCOME_TYPE &lt;chr&gt; | NAME_EDUCATION_TYPE &lt;chr&gt; | NAME_FAMILY_STATUS &lt;chr&gt; | NAME_HOUSING_TYPE &lt;chr&gt; | DAYS_BIRTH &lt;int&gt; | DAYS_EMPLOYED &lt;int&gt; | FLAG_MOBIL &lt;int&gt; | FLAG_WORK_PHONE &lt;int&gt; | FLAG_PHONE &lt;int&gt; | FLAG_EMAIL &lt;int&gt; | OCCUPATION_TYPE &lt;chr&gt; | CNT_FAM_MEMBERS &lt;int&gt; |\n",
       "|---|---|---|---|---|---|---|---|---|---|---|---|---|---|---|---|---|---|\n",
       "| 5987964 | M | Y | N | 0 | 6750000 | Working | Higher education | Married | House / apartment | -19341 | -443 | 1 | 1 | 1 | 0 | Laborers | 2 |\n",
       "\n"
      ],
      "text/plain": [
       "  ID      CODE_GENDER FLAG_OWN_CAR FLAG_OWN_REALTY CNT_CHILDREN\n",
       "1 5987964 M           Y            N               0           \n",
       "  AMT_INCOME_TOTAL NAME_INCOME_TYPE NAME_EDUCATION_TYPE NAME_FAMILY_STATUS\n",
       "1 6750000          Working          Higher education    Married           \n",
       "  NAME_HOUSING_TYPE DAYS_BIRTH DAYS_EMPLOYED FLAG_MOBIL FLAG_WORK_PHONE\n",
       "1 House / apartment -19341     -443          1          1              \n",
       "  FLAG_PHONE FLAG_EMAIL OCCUPATION_TYPE CNT_FAM_MEMBERS\n",
       "1 1          0          Laborers        2              "
      ]
     },
     "metadata": {},
     "output_type": "display_data"
    },
    {
     "data": {
      "image/png": "[encoded data removed]",
      "text/plain": [
       "plot without title"
      ]
     },
     "metadata": {
      "image/png": {
       "height": 420,
       "width": 420
      }
     },
     "output_type": "display_data"
    }
   ],
   "source": [
    "# 查看年总收入最小的客户\n",
    "print(\"年总收入最小的客户信息：\")\n",
    "app_data[which(app_data$AMT_INCOME_TOTAL == min(app_data$AMT_INCOME_TOTAL)), ]\n",
    "\n",
    "# 年收入低于5万的人群\n",
    "dd <-  app_data[app_data$AMT_INCOME_TOTAL < 50000, ]\n",
    "ggplot(data = dd) + geom_bar(mapping = aes(x = NAME_INCOME_TYPE)) + \n",
    "  xlab(\"收入类型\") + geom_text(aes(x = NAME_INCOME_TYPE, label =  scales::percent((..count..)/sum(..count..))), stat=\"count\")\n",
    "\n",
    "# 查看年总收入最大的客户\n",
    "print(\"年总收入最大的客户信息：\")\n",
    "app_data[which(app_data$AMT_INCOME_TOTAL == max(app_data$AMT_INCOME_TOTAL)), ]"
   ]
  },
  {
   "cell_type": "markdown",
   "metadata": {},
   "source": [
    "最小年收入为27000，该客户为女性，丧偶，没有小孩，独居，58岁，主要收入为养老金(Pensioner)。且在年收入低于5万的人群中有74%的\"收入类型\"为养老金，因此该数据合理。最大年收入为675万，该申请人为男性，已婚，没有小孩，40岁，名下无房产，收入类型为工人(working)，职位为普通工人。根据其收入类型、职位和房产情况，推测该条数据存在异常。"
   ]
  },
  {
   "cell_type": "markdown",
   "metadata": {},
   "source": [
    "进一步，绘制**\"收入类型\"**对**年总收入**的箱线图如下："
   ]
  },
  {
   "cell_type": "code",
   "execution_count": 17,
   "metadata": {},
   "outputs": [
    {
     "data": {
      "image/png": "[encoded data removed]",
      "text/plain": [
       "plot without title"
      ]
     },
     "metadata": {
      "image/png": {
       "height": 420,
       "width": 420
      }
     },
     "output_type": "display_data"
    }
   ],
   "source": [
    "ggplot(data = app_data) + \n",
    "  geom_boxplot(mapping = aes(x = NAME_INCOME_TYPE , y = AMT_INCOME_TOTAL), width=.2, \n",
    "               outlier.size = .8, outlier.alpha = 0.8) + \n",
    "  xlab(\"收入类型\") +\n",
    "  ylab(\"年总收入\")"
   ]
  },
  {
   "cell_type": "markdown",
   "metadata": {},
   "source": [
    "可以发现675万的年收入在工人中确实属于异常点，应该是数据采集出错，后续会采用\"Working\"收入类型的年总收入均值填充。"
   ]
  },
  {
   "cell_type": "code",
   "execution_count": 18,
   "metadata": {},
   "outputs": [
    {
     "data": {
      "text/html": [
       "<table>\n",
       "<caption>A grouped_df: 4 × 3</caption>\n",
       "<thead>\n",
       "\t<tr><th scope=col>NAME_INCOME_TYPE</th><th scope=col>AVG_INCOME</th><th scope=col>MED_INCOME</th></tr>\n",
       "\t<tr><th scope=col>&lt;chr&gt;</th><th scope=col>&lt;dbl&gt;</th><th scope=col>&lt;dbl&gt;</th></tr>\n",
       "</thead>\n",
       "<tbody>\n",
       "\t<tr><td>Working             </td><td>184718.3</td><td>157500</td></tr>\n",
       "\t<tr><td>Commercial associate</td><td>225170.8</td><td>202500</td></tr>\n",
       "\t<tr><td>State servant       </td><td>200455.3</td><td>180000</td></tr>\n",
       "\t<tr><td>Pensioner           </td><td>153145.8</td><td>135000</td></tr>\n",
       "</tbody>\n",
       "</table>\n"
      ],
      "text/latex": [
       "A grouped\\_df: 4 × 3\n",
       "\\begin{tabular}{lll}\n",
       " NAME\\_INCOME\\_TYPE & AVG\\_INCOME & MED\\_INCOME\\\\\n",
       " <chr> & <dbl> & <dbl>\\\\\n",
       "\\hline\n",
       "\t Working              & 184718.3 & 157500\\\\\n",
       "\t Commercial associate & 225170.8 & 202500\\\\\n",
       "\t State servant        & 200455.3 & 180000\\\\\n",
       "\t Pensioner            & 153145.8 & 135000\\\\\n",
       "\\end{tabular}\n"
      ],
      "text/markdown": [
       "\n",
       "A grouped_df: 4 × 3\n",
       "\n",
       "| NAME_INCOME_TYPE &lt;chr&gt; | AVG_INCOME &lt;dbl&gt; | MED_INCOME &lt;dbl&gt; |\n",
       "|---|---|---|\n",
       "| Working              | 184718.3 | 157500 |\n",
       "| Commercial associate | 225170.8 | 202500 |\n",
       "| State servant        | 200455.3 | 180000 |\n",
       "| Pensioner            | 153145.8 | 135000 |\n",
       "\n"
      ],
      "text/plain": [
       "  NAME_INCOME_TYPE     AVG_INCOME MED_INCOME\n",
       "1 Working              184718.3   157500    \n",
       "2 Commercial associate 225170.8   202500    \n",
       "3 State servant        200455.3   180000    \n",
       "4 Pensioner            153145.8   135000    "
      ]
     },
     "metadata": {},
     "output_type": "display_data"
    }
   ],
   "source": [
    "# 按照\"收入类型\"汇总年总收入的均值和中位数.\n",
    "app_data %>% filter(AMT_INCOME_TOTAL != 6750000) %>% \n",
    "  group_by(NAME_INCOME_TYPE) %>% \n",
    "  mutate(AVG_INCOME = mean(AMT_INCOME_TOTAL)) %>% \n",
    "  mutate(MED_INCOME = median(AMT_INCOME_TOTAL)) %>% \n",
    "  select(NAME_INCOME_TYPE, AVG_INCOME, MED_INCOME) %>%\n",
    "  unique()"
   ]
  },
  {
   "cell_type": "code",
   "execution_count": 19,
   "metadata": {},
   "outputs": [
    {
     "data": {
      "text/html": [
       "<table>\n",
       "<caption>A tibble: 27 × 18</caption>\n",
       "<thead>\n",
       "\t<tr><th scope=col>ID</th><th scope=col>CODE_GENDER</th><th scope=col>FLAG_OWN_CAR</th><th scope=col>FLAG_OWN_REALTY</th><th scope=col>CNT_CHILDREN</th><th scope=col>AMT_INCOME_TOTAL</th><th scope=col>NAME_INCOME_TYPE</th><th scope=col>NAME_EDUCATION_TYPE</th><th scope=col>NAME_FAMILY_STATUS</th><th scope=col>NAME_HOUSING_TYPE</th><th scope=col>DAYS_BIRTH</th><th scope=col>DAYS_EMPLOYED</th><th scope=col>FLAG_MOBIL</th><th scope=col>FLAG_WORK_PHONE</th><th scope=col>FLAG_PHONE</th><th scope=col>FLAG_EMAIL</th><th scope=col>OCCUPATION_TYPE</th><th scope=col>CNT_FAM_MEMBERS</th></tr>\n",
       "\t<tr><th scope=col>&lt;int&gt;</th><th scope=col>&lt;chr&gt;</th><th scope=col>&lt;chr&gt;</th><th scope=col>&lt;chr&gt;</th><th scope=col>&lt;int&gt;</th><th scope=col>&lt;dbl&gt;</th><th scope=col>&lt;chr&gt;</th><th scope=col>&lt;chr&gt;</th><th scope=col>&lt;chr&gt;</th><th scope=col>&lt;chr&gt;</th><th scope=col>&lt;int&gt;</th><th scope=col>&lt;int&gt;</th><th scope=col>&lt;int&gt;</th><th scope=col>&lt;int&gt;</th><th scope=col>&lt;int&gt;</th><th scope=col>&lt;int&gt;</th><th scope=col>&lt;chr&gt;</th><th scope=col>&lt;int&gt;</th></tr>\n",
       "</thead>\n",
       "<tbody>\n",
       "\t<tr><td>5625145</td><td>M</td><td>Y</td><td>N</td><td>1</td><td> 675000</td><td>Commercial associate</td><td>Higher education             </td><td>Married             </td><td>House / apartment  </td><td>-11246</td><td>  -148</td><td>1</td><td>0</td><td>1</td><td>0</td><td>Managers             </td><td>3</td></tr>\n",
       "\t<tr><td>5742478</td><td>M</td><td>N</td><td>Y</td><td>0</td><td> 810000</td><td>Commercial associate</td><td>Higher education             </td><td>Single / not married</td><td>House / apartment  </td><td>-12164</td><td> -1514</td><td>1</td><td>1</td><td>0</td><td>1</td><td>Managers             </td><td>1</td></tr>\n",
       "\t<tr><td>6048499</td><td>M</td><td>Y</td><td>Y</td><td>0</td><td> 652500</td><td>Working             </td><td>Secondary / secondary special</td><td>Single / not married</td><td>House / apartment  </td><td>-12657</td><td> -1522</td><td>1</td><td>0</td><td>0</td><td>1</td><td>Laborers             </td><td>1</td></tr>\n",
       "\t<tr><td>6087430</td><td>M</td><td>Y</td><td>Y</td><td>2</td><td> 990000</td><td>Commercial associate</td><td>Higher education             </td><td>Married             </td><td>With parents       </td><td>-12870</td><td> -1514</td><td>1</td><td>0</td><td>0</td><td>0</td><td>Managers             </td><td>4</td></tr>\n",
       "\t<tr><td>5889952</td><td>M</td><td>Y</td><td>N</td><td>3</td><td>1350000</td><td>Commercial associate</td><td>Higher education             </td><td>Married             </td><td>House / apartment  </td><td>-13505</td><td> -2376</td><td>1</td><td>1</td><td>0</td><td>1</td><td>Managers             </td><td>5</td></tr>\n",
       "\t<tr><td>5290174</td><td>F</td><td>Y</td><td>Y</td><td>2</td><td>1125000</td><td>Commercial associate</td><td>Higher education             </td><td>Married             </td><td>House / apartment  </td><td>-14030</td><td> -1532</td><td>1</td><td>0</td><td>0</td><td>1</td><td>Managers             </td><td>4</td></tr>\n",
       "\t<tr><td>5270822</td><td>M</td><td>Y</td><td>N</td><td>0</td><td>1350000</td><td>Working             </td><td>Secondary / secondary special</td><td>Married             </td><td>House / apartment  </td><td>-14047</td><td> -1038</td><td>1</td><td>0</td><td>0</td><td>0</td><td>Managers             </td><td>2</td></tr>\n",
       "\t<tr><td>5290822</td><td>M</td><td>Y</td><td>N</td><td>0</td><td> 810000</td><td>Working             </td><td>Higher education             </td><td>Married             </td><td>Municipal apartment</td><td>-14305</td><td> -2401</td><td>1</td><td>0</td><td>0</td><td>0</td><td>Managers             </td><td>2</td></tr>\n",
       "\t<tr><td>5712749</td><td>F</td><td>N</td><td>Y</td><td>1</td><td> 810000</td><td>Commercial associate</td><td>Secondary / secondary special</td><td>Civil marriage      </td><td>House / apartment  </td><td>-14843</td><td> -4297</td><td>1</td><td>1</td><td>0</td><td>0</td><td>Managers             </td><td>3</td></tr>\n",
       "\t<tr><td>6596870</td><td>F</td><td>N</td><td>N</td><td>0</td><td> 742500</td><td>Commercial associate</td><td>Higher education             </td><td>Married             </td><td>House / apartment  </td><td>-14950</td><td> -2553</td><td>1</td><td>0</td><td>1</td><td>0</td><td>                     </td><td>2</td></tr>\n",
       "\t<tr><td>6297419</td><td>F</td><td>N</td><td>N</td><td>0</td><td> 675000</td><td>Commercial associate</td><td>Higher education             </td><td>Single / not married</td><td>House / apartment  </td><td>-15031</td><td> -3755</td><td>1</td><td>1</td><td>1</td><td>0</td><td>Managers             </td><td>1</td></tr>\n",
       "\t<tr><td>6837432</td><td>F</td><td>N</td><td>Y</td><td>0</td><td> 720000</td><td>State servant       </td><td>Higher education             </td><td>Separated           </td><td>House / apartment  </td><td>-15472</td><td> -5080</td><td>1</td><td>0</td><td>0</td><td>0</td><td>Managers             </td><td>1</td></tr>\n",
       "\t<tr><td>5679647</td><td>M</td><td>Y</td><td>Y</td><td>1</td><td> 990000</td><td>Working             </td><td>Higher education             </td><td>Married             </td><td>House / apartment  </td><td>-15634</td><td> -4563</td><td>1</td><td>1</td><td>0</td><td>0</td><td>                     </td><td>3</td></tr>\n",
       "\t<tr><td>5993992</td><td>F</td><td>N</td><td>Y</td><td>0</td><td> 900000</td><td>Commercial associate</td><td>Higher education             </td><td>Single / not married</td><td>House / apartment  </td><td>-15803</td><td> -2335</td><td>1</td><td>0</td><td>0</td><td>1</td><td>Managers             </td><td>1</td></tr>\n",
       "\t<tr><td>5415422</td><td>F</td><td>Y</td><td>Y</td><td>1</td><td> 675000</td><td>Commercial associate</td><td>Secondary / secondary special</td><td>Separated           </td><td>House / apartment  </td><td>-16153</td><td> -1193</td><td>1</td><td>0</td><td>0</td><td>0</td><td>Sales staff          </td><td>2</td></tr>\n",
       "\t<tr><td>5892225</td><td>M</td><td>Y</td><td>Y</td><td>2</td><td> 675000</td><td>Commercial associate</td><td>Secondary / secondary special</td><td>Married             </td><td>House / apartment  </td><td>-16398</td><td> -2023</td><td>1</td><td>0</td><td>0</td><td>0</td><td>Managers             </td><td>4</td></tr>\n",
       "\t<tr><td>6091539</td><td>M</td><td>Y</td><td>Y</td><td>2</td><td> 675000</td><td>Commercial associate</td><td>Secondary / secondary special</td><td>Married             </td><td>House / apartment  </td><td>-16483</td><td> -2082</td><td>1</td><td>0</td><td>0</td><td>1</td><td>Drivers              </td><td>4</td></tr>\n",
       "\t<tr><td>5834540</td><td>F</td><td>N</td><td>N</td><td>0</td><td> 765000</td><td>Working             </td><td>Higher education             </td><td>Separated           </td><td>House / apartment  </td><td>-16617</td><td> -2454</td><td>1</td><td>1</td><td>0</td><td>0</td><td>Accountants          </td><td>1</td></tr>\n",
       "\t<tr><td>6606221</td><td>F</td><td>Y</td><td>N</td><td>0</td><td> 675000</td><td>Commercial associate</td><td>Secondary / secondary special</td><td>Married             </td><td>House / apartment  </td><td>-16883</td><td> -2751</td><td>1</td><td>0</td><td>0</td><td>0</td><td>High skill tech staff</td><td>2</td></tr>\n",
       "\t<tr><td>6659235</td><td>M</td><td>Y</td><td>Y</td><td>0</td><td> 900000</td><td>Commercial associate</td><td>Higher education             </td><td>Single / not married</td><td>House / apartment  </td><td>-16886</td><td> -2676</td><td>1</td><td>0</td><td>0</td><td>1</td><td>Managers             </td><td>1</td></tr>\n",
       "\t<tr><td>6144332</td><td>M</td><td>Y</td><td>Y</td><td>1</td><td> 900000</td><td>Commercial associate</td><td>Higher education             </td><td>Civil marriage      </td><td>House / apartment  </td><td>-16923</td><td> -2537</td><td>1</td><td>0</td><td>0</td><td>0</td><td>High skill tech staff</td><td>3</td></tr>\n",
       "\t<tr><td>5067652</td><td>F</td><td>N</td><td>Y</td><td>0</td><td> 787500</td><td>State servant       </td><td>Higher education             </td><td>Married             </td><td>House / apartment  </td><td>-17203</td><td> -1431</td><td>1</td><td>0</td><td>0</td><td>1</td><td>Managers             </td><td>2</td></tr>\n",
       "\t<tr><td>6604643</td><td>M</td><td>Y</td><td>Y</td><td>0</td><td>1350000</td><td>Commercial associate</td><td>Secondary / secondary special</td><td>Single / not married</td><td>House / apartment  </td><td>-17345</td><td> -4819</td><td>1</td><td>0</td><td>1</td><td>1</td><td>Core staff           </td><td>1</td></tr>\n",
       "\t<tr><td>6636102</td><td>M</td><td>Y</td><td>N</td><td>0</td><td> 828000</td><td>Working             </td><td>Secondary / secondary special</td><td>Married             </td><td>Municipal apartment</td><td>-17348</td><td> -2919</td><td>1</td><td>0</td><td>1</td><td>0</td><td>Managers             </td><td>2</td></tr>\n",
       "\t<tr><td>5858476</td><td>M</td><td>Y</td><td>Y</td><td>0</td><td> 675000</td><td>Commercial associate</td><td>Higher education             </td><td>Married             </td><td>House / apartment  </td><td>-17450</td><td> -3306</td><td>1</td><td>0</td><td>0</td><td>0</td><td>Core staff           </td><td>2</td></tr>\n",
       "\t<tr><td>5884719</td><td>F</td><td>N</td><td>Y</td><td>0</td><td>1575000</td><td>Commercial associate</td><td>Secondary / secondary special</td><td>Married             </td><td>House / apartment  </td><td>-18777</td><td>  -734</td><td>1</td><td>0</td><td>0</td><td>0</td><td>High skill tech staff</td><td>2</td></tr>\n",
       "\t<tr><td>6801734</td><td>F</td><td>N</td><td>Y</td><td>0</td><td> 675000</td><td>Pensioner           </td><td>Secondary / secondary special</td><td>Married             </td><td>House / apartment  </td><td>-20997</td><td>365243</td><td>1</td><td>0</td><td>1</td><td>1</td><td>                     </td><td>2</td></tr>\n",
       "</tbody>\n",
       "</table>\n"
      ],
      "text/latex": [
       "A tibble: 27 × 18\n",
       "\\begin{tabular}{llllllllllllllllll}\n",
       " ID & CODE\\_GENDER & FLAG\\_OWN\\_CAR & FLAG\\_OWN\\_REALTY & CNT\\_CHILDREN & AMT\\_INCOME\\_TOTAL & NAME\\_INCOME\\_TYPE & NAME\\_EDUCATION\\_TYPE & NAME\\_FAMILY\\_STATUS & NAME\\_HOUSING\\_TYPE & DAYS\\_BIRTH & DAYS\\_EMPLOYED & FLAG\\_MOBIL & FLAG\\_WORK\\_PHONE & FLAG\\_PHONE & FLAG\\_EMAIL & OCCUPATION\\_TYPE & CNT\\_FAM\\_MEMBERS\\\\\n",
       " <int> & <chr> & <chr> & <chr> & <int> & <dbl> & <chr> & <chr> & <chr> & <chr> & <int> & <int> & <int> & <int> & <int> & <int> & <chr> & <int>\\\\\n",
       "\\hline\n",
       "\t 5625145 & M & Y & N & 1 &  675000 & Commercial associate & Higher education              & Married              & House / apartment   & -11246 &   -148 & 1 & 0 & 1 & 0 & Managers              & 3\\\\\n",
       "\t 5742478 & M & N & Y & 0 &  810000 & Commercial associate & Higher education              & Single / not married & House / apartment   & -12164 &  -1514 & 1 & 1 & 0 & 1 & Managers              & 1\\\\\n",
       "\t 6048499 & M & Y & Y & 0 &  652500 & Working              & Secondary / secondary special & Single / not married & House / apartment   & -12657 &  -1522 & 1 & 0 & 0 & 1 & Laborers              & 1\\\\\n",
       "\t 6087430 & M & Y & Y & 2 &  990000 & Commercial associate & Higher education              & Married              & With parents        & -12870 &  -1514 & 1 & 0 & 0 & 0 & Managers              & 4\\\\\n",
       "\t 5889952 & M & Y & N & 3 & 1350000 & Commercial associate & Higher education              & Married              & House / apartment   & -13505 &  -2376 & 1 & 1 & 0 & 1 & Managers              & 5\\\\\n",
       "\t 5290174 & F & Y & Y & 2 & 1125000 & Commercial associate & Higher education              & Married              & House / apartment   & -14030 &  -1532 & 1 & 0 & 0 & 1 & Managers              & 4\\\\\n",
       "\t 5270822 & M & Y & N & 0 & 1350000 & Working              & Secondary / secondary special & Married              & House / apartment   & -14047 &  -1038 & 1 & 0 & 0 & 0 & Managers              & 2\\\\\n",
       "\t 5290822 & M & Y & N & 0 &  810000 & Working              & Higher education              & Married              & Municipal apartment & -14305 &  -2401 & 1 & 0 & 0 & 0 & Managers              & 2\\\\\n",
       "\t 5712749 & F & N & Y & 1 &  810000 & Commercial associate & Secondary / secondary special & Civil marriage       & House / apartment   & -14843 &  -4297 & 1 & 1 & 0 & 0 & Managers              & 3\\\\\n",
       "\t 6596870 & F & N & N & 0 &  742500 & Commercial associate & Higher education              & Married              & House / apartment   & -14950 &  -2553 & 1 & 0 & 1 & 0 &                       & 2\\\\\n",
       "\t 6297419 & F & N & N & 0 &  675000 & Commercial associate & Higher education              & Single / not married & House / apartment   & -15031 &  -3755 & 1 & 1 & 1 & 0 & Managers              & 1\\\\\n",
       "\t 6837432 & F & N & Y & 0 &  720000 & State servant        & Higher education              & Separated            & House / apartment   & -15472 &  -5080 & 1 & 0 & 0 & 0 & Managers              & 1\\\\\n",
       "\t 5679647 & M & Y & Y & 1 &  990000 & Working              & Higher education              & Married              & House / apartment   & -15634 &  -4563 & 1 & 1 & 0 & 0 &                       & 3\\\\\n",
       "\t 5993992 & F & N & Y & 0 &  900000 & Commercial associate & Higher education              & Single / not married & House / apartment   & -15803 &  -2335 & 1 & 0 & 0 & 1 & Managers              & 1\\\\\n",
       "\t 5415422 & F & Y & Y & 1 &  675000 & Commercial associate & Secondary / secondary special & Separated            & House / apartment   & -16153 &  -1193 & 1 & 0 & 0 & 0 & Sales staff           & 2\\\\\n",
       "\t 5892225 & M & Y & Y & 2 &  675000 & Commercial associate & Secondary / secondary special & Married              & House / apartment   & -16398 &  -2023 & 1 & 0 & 0 & 0 & Managers              & 4\\\\\n",
       "\t 6091539 & M & Y & Y & 2 &  675000 & Commercial associate & Secondary / secondary special & Married              & House / apartment   & -16483 &  -2082 & 1 & 0 & 0 & 1 & Drivers               & 4\\\\\n",
       "\t 5834540 & F & N & N & 0 &  765000 & Working              & Higher education              & Separated            & House / apartment   & -16617 &  -2454 & 1 & 1 & 0 & 0 & Accountants           & 1\\\\\n",
       "\t 6606221 & F & Y & N & 0 &  675000 & Commercial associate & Secondary / secondary special & Married              & House / apartment   & -16883 &  -2751 & 1 & 0 & 0 & 0 & High skill tech staff & 2\\\\\n",
       "\t 6659235 & M & Y & Y & 0 &  900000 & Commercial associate & Higher education              & Single / not married & House / apartment   & -16886 &  -2676 & 1 & 0 & 0 & 1 & Managers              & 1\\\\\n",
       "\t 6144332 & M & Y & Y & 1 &  900000 & Commercial associate & Higher education              & Civil marriage       & House / apartment   & -16923 &  -2537 & 1 & 0 & 0 & 0 & High skill tech staff & 3\\\\\n",
       "\t 5067652 & F & N & Y & 0 &  787500 & State servant        & Higher education              & Married              & House / apartment   & -17203 &  -1431 & 1 & 0 & 0 & 1 & Managers              & 2\\\\\n",
       "\t 6604643 & M & Y & Y & 0 & 1350000 & Commercial associate & Secondary / secondary special & Single / not married & House / apartment   & -17345 &  -4819 & 1 & 0 & 1 & 1 & Core staff            & 1\\\\\n",
       "\t 6636102 & M & Y & N & 0 &  828000 & Working              & Secondary / secondary special & Married              & Municipal apartment & -17348 &  -2919 & 1 & 0 & 1 & 0 & Managers              & 2\\\\\n",
       "\t 5858476 & M & Y & Y & 0 &  675000 & Commercial associate & Higher education              & Married              & House / apartment   & -17450 &  -3306 & 1 & 0 & 0 & 0 & Core staff            & 2\\\\\n",
       "\t 5884719 & F & N & Y & 0 & 1575000 & Commercial associate & Secondary / secondary special & Married              & House / apartment   & -18777 &   -734 & 1 & 0 & 0 & 0 & High skill tech staff & 2\\\\\n",
       "\t 6801734 & F & N & Y & 0 &  675000 & Pensioner            & Secondary / secondary special & Married              & House / apartment   & -20997 & 365243 & 1 & 0 & 1 & 1 &                       & 2\\\\\n",
       "\\end{tabular}\n"
      ],
      "text/markdown": [
       "\n",
       "A tibble: 27 × 18\n",
       "\n",
       "| ID &lt;int&gt; | CODE_GENDER &lt;chr&gt; | FLAG_OWN_CAR &lt;chr&gt; | FLAG_OWN_REALTY &lt;chr&gt; | CNT_CHILDREN &lt;int&gt; | AMT_INCOME_TOTAL &lt;dbl&gt; | NAME_INCOME_TYPE &lt;chr&gt; | NAME_EDUCATION_TYPE &lt;chr&gt; | NAME_FAMILY_STATUS &lt;chr&gt; | NAME_HOUSING_TYPE &lt;chr&gt; | DAYS_BIRTH &lt;int&gt; | DAYS_EMPLOYED &lt;int&gt; | FLAG_MOBIL &lt;int&gt; | FLAG_WORK_PHONE &lt;int&gt; | FLAG_PHONE &lt;int&gt; | FLAG_EMAIL &lt;int&gt; | OCCUPATION_TYPE &lt;chr&gt; | CNT_FAM_MEMBERS &lt;int&gt; |\n",
       "|---|---|---|---|---|---|---|---|---|---|---|---|---|---|---|---|---|---|\n",
       "| 5625145 | M | Y | N | 1 |  675000 | Commercial associate | Higher education              | Married              | House / apartment   | -11246 |   -148 | 1 | 0 | 1 | 0 | Managers              | 3 |\n",
       "| 5742478 | M | N | Y | 0 |  810000 | Commercial associate | Higher education              | Single / not married | House / apartment   | -12164 |  -1514 | 1 | 1 | 0 | 1 | Managers              | 1 |\n",
       "| 6048499 | M | Y | Y | 0 |  652500 | Working              | Secondary / secondary special | Single / not married | House / apartment   | -12657 |  -1522 | 1 | 0 | 0 | 1 | Laborers              | 1 |\n",
       "| 6087430 | M | Y | Y | 2 |  990000 | Commercial associate | Higher education              | Married              | With parents        | -12870 |  -1514 | 1 | 0 | 0 | 0 | Managers              | 4 |\n",
       "| 5889952 | M | Y | N | 3 | 1350000 | Commercial associate | Higher education              | Married              | House / apartment   | -13505 |  -2376 | 1 | 1 | 0 | 1 | Managers              | 5 |\n",
       "| 5290174 | F | Y | Y | 2 | 1125000 | Commercial associate | Higher education              | Married              | House / apartment   | -14030 |  -1532 | 1 | 0 | 0 | 1 | Managers              | 4 |\n",
       "| 5270822 | M | Y | N | 0 | 1350000 | Working              | Secondary / secondary special | Married              | House / apartment   | -14047 |  -1038 | 1 | 0 | 0 | 0 | Managers              | 2 |\n",
       "| 5290822 | M | Y | N | 0 |  810000 | Working              | Higher education              | Married              | Municipal apartment | -14305 |  -2401 | 1 | 0 | 0 | 0 | Managers              | 2 |\n",
       "| 5712749 | F | N | Y | 1 |  810000 | Commercial associate | Secondary / secondary special | Civil marriage       | House / apartment   | -14843 |  -4297 | 1 | 1 | 0 | 0 | Managers              | 3 |\n",
       "| 6596870 | F | N | N | 0 |  742500 | Commercial associate | Higher education              | Married              | House / apartment   | -14950 |  -2553 | 1 | 0 | 1 | 0 | <!----> | 2 |\n",
       "| 6297419 | F | N | N | 0 |  675000 | Commercial associate | Higher education              | Single / not married | House / apartment   | -15031 |  -3755 | 1 | 1 | 1 | 0 | Managers              | 1 |\n",
       "| 6837432 | F | N | Y | 0 |  720000 | State servant        | Higher education              | Separated            | House / apartment   | -15472 |  -5080 | 1 | 0 | 0 | 0 | Managers              | 1 |\n",
       "| 5679647 | M | Y | Y | 1 |  990000 | Working              | Higher education              | Married              | House / apartment   | -15634 |  -4563 | 1 | 1 | 0 | 0 | <!----> | 3 |\n",
       "| 5993992 | F | N | Y | 0 |  900000 | Commercial associate | Higher education              | Single / not married | House / apartment   | -15803 |  -2335 | 1 | 0 | 0 | 1 | Managers              | 1 |\n",
       "| 5415422 | F | Y | Y | 1 |  675000 | Commercial associate | Secondary / secondary special | Separated            | House / apartment   | -16153 |  -1193 | 1 | 0 | 0 | 0 | Sales staff           | 2 |\n",
       "| 5892225 | M | Y | Y | 2 |  675000 | Commercial associate | Secondary / secondary special | Married              | House / apartment   | -16398 |  -2023 | 1 | 0 | 0 | 0 | Managers              | 4 |\n",
       "| 6091539 | M | Y | Y | 2 |  675000 | Commercial associate | Secondary / secondary special | Married              | House / apartment   | -16483 |  -2082 | 1 | 0 | 0 | 1 | Drivers               | 4 |\n",
       "| 5834540 | F | N | N | 0 |  765000 | Working              | Higher education              | Separated            | House / apartment   | -16617 |  -2454 | 1 | 1 | 0 | 0 | Accountants           | 1 |\n",
       "| 6606221 | F | Y | N | 0 |  675000 | Commercial associate | Secondary / secondary special | Married              | House / apartment   | -16883 |  -2751 | 1 | 0 | 0 | 0 | High skill tech staff | 2 |\n",
       "| 6659235 | M | Y | Y | 0 |  900000 | Commercial associate | Higher education              | Single / not married | House / apartment   | -16886 |  -2676 | 1 | 0 | 0 | 1 | Managers              | 1 |\n",
       "| 6144332 | M | Y | Y | 1 |  900000 | Commercial associate | Higher education              | Civil marriage       | House / apartment   | -16923 |  -2537 | 1 | 0 | 0 | 0 | High skill tech staff | 3 |\n",
       "| 5067652 | F | N | Y | 0 |  787500 | State servant        | Higher education              | Married              | House / apartment   | -17203 |  -1431 | 1 | 0 | 0 | 1 | Managers              | 2 |\n",
       "| 6604643 | M | Y | Y | 0 | 1350000 | Commercial associate | Secondary / secondary special | Single / not married | House / apartment   | -17345 |  -4819 | 1 | 0 | 1 | 1 | Core staff            | 1 |\n",
       "| 6636102 | M | Y | N | 0 |  828000 | Working              | Secondary / secondary special | Married              | Municipal apartment | -17348 |  -2919 | 1 | 0 | 1 | 0 | Managers              | 2 |\n",
       "| 5858476 | M | Y | Y | 0 |  675000 | Commercial associate | Higher education              | Married              | House / apartment   | -17450 |  -3306 | 1 | 0 | 0 | 0 | Core staff            | 2 |\n",
       "| 5884719 | F | N | Y | 0 | 1575000 | Commercial associate | Secondary / secondary special | Married              | House / apartment   | -18777 |   -734 | 1 | 0 | 0 | 0 | High skill tech staff | 2 |\n",
       "| 6801734 | F | N | Y | 0 |  675000 | Pensioner            | Secondary / secondary special | Married              | House / apartment   | -20997 | 365243 | 1 | 0 | 1 | 1 | <!----> | 2 |\n",
       "\n"
      ],
      "text/plain": [
       "   ID      CODE_GENDER FLAG_OWN_CAR FLAG_OWN_REALTY CNT_CHILDREN\n",
       "1  5625145 M           Y            N               1           \n",
       "2  5742478 M           N            Y               0           \n",
       "3  6048499 M           Y            Y               0           \n",
       "4  6087430 M           Y            Y               2           \n",
       "5  5889952 M           Y            N               3           \n",
       "6  5290174 F           Y            Y               2           \n",
       "7  5270822 M           Y            N               0           \n",
       "8  5290822 M           Y            N               0           \n",
       "9  5712749 F           N            Y               1           \n",
       "10 6596870 F           N            N               0           \n",
       "11 6297419 F           N            N               0           \n",
       "12 6837432 F           N            Y               0           \n",
       "13 5679647 M           Y            Y               1           \n",
       "14 5993992 F           N            Y               0           \n",
       "15 5415422 F           Y            Y               1           \n",
       "16 5892225 M           Y            Y               2           \n",
       "17 6091539 M           Y            Y               2           \n",
       "18 5834540 F           N            N               0           \n",
       "19 6606221 F           Y            N               0           \n",
       "20 6659235 M           Y            Y               0           \n",
       "21 6144332 M           Y            Y               1           \n",
       "22 5067652 F           N            Y               0           \n",
       "23 6604643 M           Y            Y               0           \n",
       "24 6636102 M           Y            N               0           \n",
       "25 5858476 M           Y            Y               0           \n",
       "26 5884719 F           N            Y               0           \n",
       "27 6801734 F           N            Y               0           \n",
       "   AMT_INCOME_TOTAL NAME_INCOME_TYPE     NAME_EDUCATION_TYPE          \n",
       "1   675000          Commercial associate Higher education             \n",
       "2   810000          Commercial associate Higher education             \n",
       "3   652500          Working              Secondary / secondary special\n",
       "4   990000          Commercial associate Higher education             \n",
       "5  1350000          Commercial associate Higher education             \n",
       "6  1125000          Commercial associate Higher education             \n",
       "7  1350000          Working              Secondary / secondary special\n",
       "8   810000          Working              Higher education             \n",
       "9   810000          Commercial associate Secondary / secondary special\n",
       "10  742500          Commercial associate Higher education             \n",
       "11  675000          Commercial associate Higher education             \n",
       "12  720000          State servant        Higher education             \n",
       "13  990000          Working              Higher education             \n",
       "14  900000          Commercial associate Higher education             \n",
       "15  675000          Commercial associate Secondary / secondary special\n",
       "16  675000          Commercial associate Secondary / secondary special\n",
       "17  675000          Commercial associate Secondary / secondary special\n",
       "18  765000          Working              Higher education             \n",
       "19  675000          Commercial associate Secondary / secondary special\n",
       "20  900000          Commercial associate Higher education             \n",
       "21  900000          Commercial associate Higher education             \n",
       "22  787500          State servant        Higher education             \n",
       "23 1350000          Commercial associate Secondary / secondary special\n",
       "24  828000          Working              Secondary / secondary special\n",
       "25  675000          Commercial associate Higher education             \n",
       "26 1575000          Commercial associate Secondary / secondary special\n",
       "27  675000          Pensioner            Secondary / secondary special\n",
       "   NAME_FAMILY_STATUS   NAME_HOUSING_TYPE   DAYS_BIRTH DAYS_EMPLOYED FLAG_MOBIL\n",
       "1  Married              House / apartment   -11246       -148        1         \n",
       "2  Single / not married House / apartment   -12164      -1514        1         \n",
       "3  Single / not married House / apartment   -12657      -1522        1         \n",
       "4  Married              With parents        -12870      -1514        1         \n",
       "5  Married              House / apartment   -13505      -2376        1         \n",
       "6  Married              House / apartment   -14030      -1532        1         \n",
       "7  Married              House / apartment   -14047      -1038        1         \n",
       "8  Married              Municipal apartment -14305      -2401        1         \n",
       "9  Civil marriage       House / apartment   -14843      -4297        1         \n",
       "10 Married              House / apartment   -14950      -2553        1         \n",
       "11 Single / not married House / apartment   -15031      -3755        1         \n",
       "12 Separated            House / apartment   -15472      -5080        1         \n",
       "13 Married              House / apartment   -15634      -4563        1         \n",
       "14 Single / not married House / apartment   -15803      -2335        1         \n",
       "15 Separated            House / apartment   -16153      -1193        1         \n",
       "16 Married              House / apartment   -16398      -2023        1         \n",
       "17 Married              House / apartment   -16483      -2082        1         \n",
       "18 Separated            House / apartment   -16617      -2454        1         \n",
       "19 Married              House / apartment   -16883      -2751        1         \n",
       "20 Single / not married House / apartment   -16886      -2676        1         \n",
       "21 Civil marriage       House / apartment   -16923      -2537        1         \n",
       "22 Married              House / apartment   -17203      -1431        1         \n",
       "23 Single / not married House / apartment   -17345      -4819        1         \n",
       "24 Married              Municipal apartment -17348      -2919        1         \n",
       "25 Married              House / apartment   -17450      -3306        1         \n",
       "26 Married              House / apartment   -18777       -734        1         \n",
       "27 Married              House / apartment   -20997     365243        1         \n",
       "   FLAG_WORK_PHONE FLAG_PHONE FLAG_EMAIL OCCUPATION_TYPE       CNT_FAM_MEMBERS\n",
       "1  0               1          0          Managers              3              \n",
       "2  1               0          1          Managers              1              \n",
       "3  0               0          1          Laborers              1              \n",
       "4  0               0          0          Managers              4              \n",
       "5  1               0          1          Managers              5              \n",
       "6  0               0          1          Managers              4              \n",
       "7  0               0          0          Managers              2              \n",
       "8  0               0          0          Managers              2              \n",
       "9  1               0          0          Managers              3              \n",
       "10 0               1          0                                2              \n",
       "11 1               1          0          Managers              1              \n",
       "12 0               0          0          Managers              1              \n",
       "13 1               0          0                                3              \n",
       "14 0               0          1          Managers              1              \n",
       "15 0               0          0          Sales staff           2              \n",
       "16 0               0          0          Managers              4              \n",
       "17 0               0          1          Drivers               4              \n",
       "18 1               0          0          Accountants           1              \n",
       "19 0               0          0          High skill tech staff 2              \n",
       "20 0               0          1          Managers              1              \n",
       "21 0               0          0          High skill tech staff 3              \n",
       "22 0               0          1          Managers              2              \n",
       "23 0               1          1          Core staff            1              \n",
       "24 0               1          0          Managers              2              \n",
       "25 0               0          0          Core staff            2              \n",
       "26 0               0          0          High skill tech staff 2              \n",
       "27 0               1          1                                2              "
      ]
     },
     "metadata": {},
     "output_type": "display_data"
    }
   ],
   "source": [
    "# 对其余几个年总收入的异常值，提取数据，考察其合理性.\n",
    "app_data[app_cont_outlier[[\"AMT_INCOME_TOTAL\"]], ] %>% \n",
    "  filter(AMT_INCOME_TOTAL != 6750000) "
   ]
  },
  {
   "cell_type": "markdown",
   "metadata": {},
   "source": [
    "发现最后一条数据的\"DAYS_EMPLOYED\"记录为正值(应为负值，表示从申请日前推到开始工作日期之间的间隔)，且数值大于DAY_BIRTH)，考虑为记录错误，应清除该客户的\"DAYS_EMPLOYED\"字段。\n",
    "\n",
    "此外，可以发现这些高收入人群大多从事商业活动(Commercial associate)且均为管理层(Managers)或核心员工(core staff)或高级技术人员(High skill tech staff)，但有少数从事工人(Working)，我们单独筛选出来分析。"
   ]
  },
  {
   "cell_type": "code",
   "execution_count": 20,
   "metadata": {},
   "outputs": [
    {
     "data": {
      "text/html": [
       "<table>\n",
       "<caption>A tibble: 6 × 18</caption>\n",
       "<thead>\n",
       "\t<tr><th scope=col>ID</th><th scope=col>CODE_GENDER</th><th scope=col>FLAG_OWN_CAR</th><th scope=col>FLAG_OWN_REALTY</th><th scope=col>CNT_CHILDREN</th><th scope=col>AMT_INCOME_TOTAL</th><th scope=col>NAME_INCOME_TYPE</th><th scope=col>NAME_EDUCATION_TYPE</th><th scope=col>NAME_FAMILY_STATUS</th><th scope=col>NAME_HOUSING_TYPE</th><th scope=col>DAYS_BIRTH</th><th scope=col>DAYS_EMPLOYED</th><th scope=col>FLAG_MOBIL</th><th scope=col>FLAG_WORK_PHONE</th><th scope=col>FLAG_PHONE</th><th scope=col>FLAG_EMAIL</th><th scope=col>OCCUPATION_TYPE</th><th scope=col>CNT_FAM_MEMBERS</th></tr>\n",
       "\t<tr><th scope=col>&lt;int&gt;</th><th scope=col>&lt;chr&gt;</th><th scope=col>&lt;chr&gt;</th><th scope=col>&lt;chr&gt;</th><th scope=col>&lt;int&gt;</th><th scope=col>&lt;dbl&gt;</th><th scope=col>&lt;chr&gt;</th><th scope=col>&lt;chr&gt;</th><th scope=col>&lt;chr&gt;</th><th scope=col>&lt;chr&gt;</th><th scope=col>&lt;int&gt;</th><th scope=col>&lt;int&gt;</th><th scope=col>&lt;int&gt;</th><th scope=col>&lt;int&gt;</th><th scope=col>&lt;int&gt;</th><th scope=col>&lt;int&gt;</th><th scope=col>&lt;chr&gt;</th><th scope=col>&lt;int&gt;</th></tr>\n",
       "</thead>\n",
       "<tbody>\n",
       "\t<tr><td>6048499</td><td>M</td><td>Y</td><td>Y</td><td>0</td><td> 652500</td><td>Working</td><td>Secondary / secondary special</td><td>Single / not married</td><td>House / apartment  </td><td>-12657</td><td>-1522</td><td>1</td><td>0</td><td>0</td><td>1</td><td>Laborers   </td><td>1</td></tr>\n",
       "\t<tr><td>5270822</td><td>M</td><td>Y</td><td>N</td><td>0</td><td>1350000</td><td>Working</td><td>Secondary / secondary special</td><td>Married             </td><td>House / apartment  </td><td>-14047</td><td>-1038</td><td>1</td><td>0</td><td>0</td><td>0</td><td>Managers   </td><td>2</td></tr>\n",
       "\t<tr><td>5290822</td><td>M</td><td>Y</td><td>N</td><td>0</td><td> 810000</td><td>Working</td><td>Higher education             </td><td>Married             </td><td>Municipal apartment</td><td>-14305</td><td>-2401</td><td>1</td><td>0</td><td>0</td><td>0</td><td>Managers   </td><td>2</td></tr>\n",
       "\t<tr><td>5679647</td><td>M</td><td>Y</td><td>Y</td><td>1</td><td> 990000</td><td>Working</td><td>Higher education             </td><td>Married             </td><td>House / apartment  </td><td>-15634</td><td>-4563</td><td>1</td><td>1</td><td>0</td><td>0</td><td>           </td><td>3</td></tr>\n",
       "\t<tr><td>5834540</td><td>F</td><td>N</td><td>N</td><td>0</td><td> 765000</td><td>Working</td><td>Higher education             </td><td>Separated           </td><td>House / apartment  </td><td>-16617</td><td>-2454</td><td>1</td><td>1</td><td>0</td><td>0</td><td>Accountants</td><td>1</td></tr>\n",
       "\t<tr><td>6636102</td><td>M</td><td>Y</td><td>N</td><td>0</td><td> 828000</td><td>Working</td><td>Secondary / secondary special</td><td>Married             </td><td>Municipal apartment</td><td>-17348</td><td>-2919</td><td>1</td><td>0</td><td>1</td><td>0</td><td>Managers   </td><td>2</td></tr>\n",
       "</tbody>\n",
       "</table>\n"
      ],
      "text/latex": [
       "A tibble: 6 × 18\n",
       "\\begin{tabular}{llllllllllllllllll}\n",
       " ID & CODE\\_GENDER & FLAG\\_OWN\\_CAR & FLAG\\_OWN\\_REALTY & CNT\\_CHILDREN & AMT\\_INCOME\\_TOTAL & NAME\\_INCOME\\_TYPE & NAME\\_EDUCATION\\_TYPE & NAME\\_FAMILY\\_STATUS & NAME\\_HOUSING\\_TYPE & DAYS\\_BIRTH & DAYS\\_EMPLOYED & FLAG\\_MOBIL & FLAG\\_WORK\\_PHONE & FLAG\\_PHONE & FLAG\\_EMAIL & OCCUPATION\\_TYPE & CNT\\_FAM\\_MEMBERS\\\\\n",
       " <int> & <chr> & <chr> & <chr> & <int> & <dbl> & <chr> & <chr> & <chr> & <chr> & <int> & <int> & <int> & <int> & <int> & <int> & <chr> & <int>\\\\\n",
       "\\hline\n",
       "\t 6048499 & M & Y & Y & 0 &  652500 & Working & Secondary / secondary special & Single / not married & House / apartment   & -12657 & -1522 & 1 & 0 & 0 & 1 & Laborers    & 1\\\\\n",
       "\t 5270822 & M & Y & N & 0 & 1350000 & Working & Secondary / secondary special & Married              & House / apartment   & -14047 & -1038 & 1 & 0 & 0 & 0 & Managers    & 2\\\\\n",
       "\t 5290822 & M & Y & N & 0 &  810000 & Working & Higher education              & Married              & Municipal apartment & -14305 & -2401 & 1 & 0 & 0 & 0 & Managers    & 2\\\\\n",
       "\t 5679647 & M & Y & Y & 1 &  990000 & Working & Higher education              & Married              & House / apartment   & -15634 & -4563 & 1 & 1 & 0 & 0 &             & 3\\\\\n",
       "\t 5834540 & F & N & N & 0 &  765000 & Working & Higher education              & Separated            & House / apartment   & -16617 & -2454 & 1 & 1 & 0 & 0 & Accountants & 1\\\\\n",
       "\t 6636102 & M & Y & N & 0 &  828000 & Working & Secondary / secondary special & Married              & Municipal apartment & -17348 & -2919 & 1 & 0 & 1 & 0 & Managers    & 2\\\\\n",
       "\\end{tabular}\n"
      ],
      "text/markdown": [
       "\n",
       "A tibble: 6 × 18\n",
       "\n",
       "| ID &lt;int&gt; | CODE_GENDER &lt;chr&gt; | FLAG_OWN_CAR &lt;chr&gt; | FLAG_OWN_REALTY &lt;chr&gt; | CNT_CHILDREN &lt;int&gt; | AMT_INCOME_TOTAL &lt;dbl&gt; | NAME_INCOME_TYPE &lt;chr&gt; | NAME_EDUCATION_TYPE &lt;chr&gt; | NAME_FAMILY_STATUS &lt;chr&gt; | NAME_HOUSING_TYPE &lt;chr&gt; | DAYS_BIRTH &lt;int&gt; | DAYS_EMPLOYED &lt;int&gt; | FLAG_MOBIL &lt;int&gt; | FLAG_WORK_PHONE &lt;int&gt; | FLAG_PHONE &lt;int&gt; | FLAG_EMAIL &lt;int&gt; | OCCUPATION_TYPE &lt;chr&gt; | CNT_FAM_MEMBERS &lt;int&gt; |\n",
       "|---|---|---|---|---|---|---|---|---|---|---|---|---|---|---|---|---|---|\n",
       "| 6048499 | M | Y | Y | 0 |  652500 | Working | Secondary / secondary special | Single / not married | House / apartment   | -12657 | -1522 | 1 | 0 | 0 | 1 | Laborers    | 1 |\n",
       "| 5270822 | M | Y | N | 0 | 1350000 | Working | Secondary / secondary special | Married              | House / apartment   | -14047 | -1038 | 1 | 0 | 0 | 0 | Managers    | 2 |\n",
       "| 5290822 | M | Y | N | 0 |  810000 | Working | Higher education              | Married              | Municipal apartment | -14305 | -2401 | 1 | 0 | 0 | 0 | Managers    | 2 |\n",
       "| 5679647 | M | Y | Y | 1 |  990000 | Working | Higher education              | Married              | House / apartment   | -15634 | -4563 | 1 | 1 | 0 | 0 | <!----> | 3 |\n",
       "| 5834540 | F | N | N | 0 |  765000 | Working | Higher education              | Separated            | House / apartment   | -16617 | -2454 | 1 | 1 | 0 | 0 | Accountants | 1 |\n",
       "| 6636102 | M | Y | N | 0 |  828000 | Working | Secondary / secondary special | Married              | Municipal apartment | -17348 | -2919 | 1 | 0 | 1 | 0 | Managers    | 2 |\n",
       "\n"
      ],
      "text/plain": [
       "  ID      CODE_GENDER FLAG_OWN_CAR FLAG_OWN_REALTY CNT_CHILDREN\n",
       "1 6048499 M           Y            Y               0           \n",
       "2 5270822 M           Y            N               0           \n",
       "3 5290822 M           Y            N               0           \n",
       "4 5679647 M           Y            Y               1           \n",
       "5 5834540 F           N            N               0           \n",
       "6 6636102 M           Y            N               0           \n",
       "  AMT_INCOME_TOTAL NAME_INCOME_TYPE NAME_EDUCATION_TYPE          \n",
       "1  652500          Working          Secondary / secondary special\n",
       "2 1350000          Working          Secondary / secondary special\n",
       "3  810000          Working          Higher education             \n",
       "4  990000          Working          Higher education             \n",
       "5  765000          Working          Higher education             \n",
       "6  828000          Working          Secondary / secondary special\n",
       "  NAME_FAMILY_STATUS   NAME_HOUSING_TYPE   DAYS_BIRTH DAYS_EMPLOYED FLAG_MOBIL\n",
       "1 Single / not married House / apartment   -12657     -1522         1         \n",
       "2 Married              House / apartment   -14047     -1038         1         \n",
       "3 Married              Municipal apartment -14305     -2401         1         \n",
       "4 Married              House / apartment   -15634     -4563         1         \n",
       "5 Separated            House / apartment   -16617     -2454         1         \n",
       "6 Married              Municipal apartment -17348     -2919         1         \n",
       "  FLAG_WORK_PHONE FLAG_PHONE FLAG_EMAIL OCCUPATION_TYPE CNT_FAM_MEMBERS\n",
       "1 0               0          1          Laborers        1              \n",
       "2 0               0          0          Managers        2              \n",
       "3 0               0          0          Managers        2              \n",
       "4 1               0          0                          3              \n",
       "5 1               0          0          Accountants     1              \n",
       "6 0               1          0          Managers        2              "
      ]
     },
     "metadata": {},
     "output_type": "display_data"
    }
   ],
   "source": [
    "app_data[app_cont_outlier[[\"AMT_INCOME_TOTAL\"]], ] %>% \n",
    "  filter(AMT_INCOME_TOTAL != 6750000) %>%\n",
    "  filter(NAME_INCOME_TYPE == \"Working\")"
   ]
  },
  {
   "cell_type": "markdown",
   "metadata": {},
   "source": [
    "从上表看有3个从事Working的人职位为Managers，暂认为其收入无异常。有1个从事Working的人职位为Labors，但是有房有车，暂认为无异常。还有一位职位数据缺失，但有房有车，已婚已育比较稳定，暂时认为无异常。"
   ]
  },
  {
   "cell_type": "code",
   "execution_count": 21,
   "metadata": {},
   "outputs": [
    {
     "data": {
      "image/png": "[encoded data removed]",
      "text/plain": [
       "plot without title"
      ]
     },
     "metadata": {
      "image/png": {
       "height": 420,
       "width": 420
      }
     },
     "output_type": "display_data"
    }
   ],
   "source": [
    "# 去除异常收入后更新箱线图：\n",
    "app_data_new <- app_data %>% filter(AMT_INCOME_TOTAL != 6750000)\n",
    "ggplot(data = app_data_new) + \n",
    "  geom_boxplot(mapping = aes(x = NAME_INCOME_TYPE , y = AMT_INCOME_TOTAL), width=.2, \n",
    "               outlier.size = .8, outlier.alpha = 0.8) + \n",
    "  xlab(\"收入类型\") +\n",
    "  ylab(\"年总收入\")"
   ]
  },
  {
   "cell_type": "markdown",
   "metadata": {},
   "source": [
    "通过以上分析，将两个明显的异常值更换为对应的收入类型下该字段的均值："
   ]
  },
  {
   "cell_type": "code",
   "execution_count": 22,
   "metadata": {},
   "outputs": [],
   "source": [
    "## Working下年总收入的均值\n",
    "app_data$AMT_INCOME_TOTAL[app_data$AMT_INCOME_TOTAL == 6750000] <- 184718 \n",
    "\n",
    "## Pensioner下工作天数的均值\n",
    "app_data$DAYS_EMPLOYED[app_data$DAYS_EMPLOYED == 365243] <-\n",
    "  mean(app_data$DAYS_EMPLOYED[app_data$NAME_INCOME_TYPE == \"Pensioner\" & app_data$DAYS_EMPLOYED < 0])"
   ]
  },
  {
   "cell_type": "markdown",
   "metadata": {},
   "source": [
    "**2. 交易表(trans)异常诊断**\n",
    "\n",
    "主要查看\"金额\"与\"账户余额\"的分布情况，检查是否存在异常值。"
   ]
  },
  {
   "cell_type": "code",
   "execution_count": 23,
   "metadata": {},
   "outputs": [
    {
     "data": {
      "image/png": "[encoded data removed]",
      "text/plain": [
       "plot without title"
      ]
     },
     "metadata": {
      "image/png": {
       "height": 420,
       "width": 420
      }
     },
     "output_type": "display_data"
    }
   ],
   "source": [
    "# 针对trans\n",
    "trans_cont_outlier <- list()\n",
    "for (f in 1:length(cont_feature_trans)) {\n",
    "  trans_cont_outlier[[f]] <- find_outliers(trans, cont_feature_trans[f])\n",
    "} \n",
    "names(trans_cont_outlier) <- cont_feature_trans\n",
    "\n",
    "plot_data <- tibble(value = c(trans[[\"amount_num\"]], trans[[\"balance_num\"]]), var = c(rep(\"amount_num\", nrow(trans)), rep(\"balance_num\", nrow(trans))))\n",
    "ggplot(plot_data, aes(x = var, y = value)) + \n",
    "  geom_boxplot(outlier.size = 0.3, width = 0.2) + xlab(\"continuous variable\")"
   ]
  },
  {
   "cell_type": "markdown",
   "metadata": {},
   "source": [
    "从图上看，账户余额存在一个明显的最大值点。查询该客户最大值发生的半月之间的交易数据："
   ]
  },
  {
   "cell_type": "code",
   "execution_count": 24,
   "metadata": {},
   "outputs": [
    {
     "data": {
      "text/html": [
       "<table>\n",
       "<caption>A tibble: 11 × 8</caption>\n",
       "<thead>\n",
       "\t<tr><th scope=col>trans_id</th><th scope=col>account_id</th><th scope=col>date</th><th scope=col>type</th><th scope=col>operation</th><th scope=col>k_symbol</th><th scope=col>amount_num</th><th scope=col>balance_num</th></tr>\n",
       "\t<tr><th scope=col>&lt;int&gt;</th><th scope=col>&lt;int&gt;</th><th scope=col>&lt;date&gt;</th><th scope=col>&lt;chr&gt;</th><th scope=col>&lt;chr&gt;</th><th scope=col>&lt;chr&gt;</th><th scope=col>&lt;dbl&gt;</th><th scope=col>&lt;dbl&gt;</th></tr>\n",
       "</thead>\n",
       "<tbody>\n",
       "\t<tr><td>3170396</td><td>10520</td><td>1997-05-02</td><td>debit </td><td>cash </td><td>          </td><td>21000</td><td>137429</td></tr>\n",
       "\t<tr><td>3170175</td><td>10520</td><td>1997-05-02</td><td>credit</td><td>loan </td><td>          </td><td>49874</td><td>158429</td></tr>\n",
       "\t<tr><td>3170176</td><td>10520</td><td>1997-05-06</td><td>credit</td><td>loan </td><td>          </td><td>48351</td><td>185780</td></tr>\n",
       "\t<tr><td>3170397</td><td>10520</td><td>1997-05-06</td><td>debit </td><td>cash </td><td>          </td><td>53300</td><td>156337</td></tr>\n",
       "\t<tr><td>3170188</td><td>10520</td><td>1997-05-06</td><td>credit</td><td>loan </td><td>          </td><td>23857</td><td>209637</td></tr>\n",
       "\t<tr><td>3170398</td><td>10520</td><td>1997-05-06</td><td>debit </td><td>cash </td><td>          </td><td>30300</td><td>126037</td></tr>\n",
       "\t<tr><td>3170400</td><td>10520</td><td>1997-05-09</td><td>debit </td><td>cash </td><td>          </td><td>60800</td><td>128965</td></tr>\n",
       "\t<tr><td>3170182</td><td>10520</td><td>1997-05-09</td><td>credit</td><td>loan </td><td>          </td><td>43786</td><td>189765</td></tr>\n",
       "\t<tr><td>3170399</td><td>10520</td><td>1997-05-09</td><td>debit </td><td>cash </td><td>          </td><td>24800</td><td>104165</td></tr>\n",
       "\t<tr><td>3170172</td><td>10520</td><td>1997-05-09</td><td>credit</td><td>loan </td><td>          </td><td>19942</td><td>145979</td></tr>\n",
       "\t<tr><td>3170223</td><td>10520</td><td>1997-05-12</td><td>debit </td><td>remit</td><td>loan_repay</td><td> 6960</td><td> 97205</td></tr>\n",
       "</tbody>\n",
       "</table>\n"
      ],
      "text/latex": [
       "A tibble: 11 × 8\n",
       "\\begin{tabular}{llllllll}\n",
       " trans\\_id & account\\_id & date & type & operation & k\\_symbol & amount\\_num & balance\\_num\\\\\n",
       " <int> & <int> & <date> & <chr> & <chr> & <chr> & <dbl> & <dbl>\\\\\n",
       "\\hline\n",
       "\t 3170396 & 10520 & 1997-05-02 & debit  & cash  &            & 21000 & 137429\\\\\n",
       "\t 3170175 & 10520 & 1997-05-02 & credit & loan  &            & 49874 & 158429\\\\\n",
       "\t 3170176 & 10520 & 1997-05-06 & credit & loan  &            & 48351 & 185780\\\\\n",
       "\t 3170397 & 10520 & 1997-05-06 & debit  & cash  &            & 53300 & 156337\\\\\n",
       "\t 3170188 & 10520 & 1997-05-06 & credit & loan  &            & 23857 & 209637\\\\\n",
       "\t 3170398 & 10520 & 1997-05-06 & debit  & cash  &            & 30300 & 126037\\\\\n",
       "\t 3170400 & 10520 & 1997-05-09 & debit  & cash  &            & 60800 & 128965\\\\\n",
       "\t 3170182 & 10520 & 1997-05-09 & credit & loan  &            & 43786 & 189765\\\\\n",
       "\t 3170399 & 10520 & 1997-05-09 & debit  & cash  &            & 24800 & 104165\\\\\n",
       "\t 3170172 & 10520 & 1997-05-09 & credit & loan  &            & 19942 & 145979\\\\\n",
       "\t 3170223 & 10520 & 1997-05-12 & debit  & remit & loan\\_repay &  6960 &  97205\\\\\n",
       "\\end{tabular}\n"
      ],
      "text/markdown": [
       "\n",
       "A tibble: 11 × 8\n",
       "\n",
       "| trans_id &lt;int&gt; | account_id &lt;int&gt; | date &lt;date&gt; | type &lt;chr&gt; | operation &lt;chr&gt; | k_symbol &lt;chr&gt; | amount_num &lt;dbl&gt; | balance_num &lt;dbl&gt; |\n",
       "|---|---|---|---|---|---|---|---|\n",
       "| 3170396 | 10520 | 1997-05-02 | debit  | cash  | <!----> | 21000 | 137429 |\n",
       "| 3170175 | 10520 | 1997-05-02 | credit | loan  | <!----> | 49874 | 158429 |\n",
       "| 3170176 | 10520 | 1997-05-06 | credit | loan  | <!----> | 48351 | 185780 |\n",
       "| 3170397 | 10520 | 1997-05-06 | debit  | cash  | <!----> | 53300 | 156337 |\n",
       "| 3170188 | 10520 | 1997-05-06 | credit | loan  | <!----> | 23857 | 209637 |\n",
       "| 3170398 | 10520 | 1997-05-06 | debit  | cash  | <!----> | 30300 | 126037 |\n",
       "| 3170400 | 10520 | 1997-05-09 | debit  | cash  | <!----> | 60800 | 128965 |\n",
       "| 3170182 | 10520 | 1997-05-09 | credit | loan  | <!----> | 43786 | 189765 |\n",
       "| 3170399 | 10520 | 1997-05-09 | debit  | cash  | <!----> | 24800 | 104165 |\n",
       "| 3170172 | 10520 | 1997-05-09 | credit | loan  | <!----> | 19942 | 145979 |\n",
       "| 3170223 | 10520 | 1997-05-12 | debit  | remit | loan_repay |  6960 |  97205 |\n",
       "\n"
      ],
      "text/plain": [
       "   trans_id account_id date       type   operation k_symbol   amount_num\n",
       "1  3170396  10520      1997-05-02 debit  cash                 21000     \n",
       "2  3170175  10520      1997-05-02 credit loan                 49874     \n",
       "3  3170176  10520      1997-05-06 credit loan                 48351     \n",
       "4  3170397  10520      1997-05-06 debit  cash                 53300     \n",
       "5  3170188  10520      1997-05-06 credit loan                 23857     \n",
       "6  3170398  10520      1997-05-06 debit  cash                 30300     \n",
       "7  3170400  10520      1997-05-09 debit  cash                 60800     \n",
       "8  3170182  10520      1997-05-09 credit loan                 43786     \n",
       "9  3170399  10520      1997-05-09 debit  cash                 24800     \n",
       "10 3170172  10520      1997-05-09 credit loan                 19942     \n",
       "11 3170223  10520      1997-05-12 debit  remit     loan_repay  6960     \n",
       "   balance_num\n",
       "1  137429     \n",
       "2  158429     \n",
       "3  185780     \n",
       "4  156337     \n",
       "5  209637     \n",
       "6  126037     \n",
       "7  128965     \n",
       "8  189765     \n",
       "9  104165     \n",
       "10 145979     \n",
       "11  97205     "
      ]
     },
     "metadata": {},
     "output_type": "display_data"
    }
   ],
   "source": [
    "trans[trans$account_id == trans[[which.max(trans$balance_num), \"account_id\"]], ] %>% \n",
    "  filter(date > as.Date(\"1997-05-01\") & date < as.Date(\"1997-05-15\")) %>% \n",
    "  select(-c(bank, account))"
   ]
  },
  {
   "cell_type": "markdown",
   "metadata": {},
   "source": [
    "发现该客户在最大值发生的半个月内账户余额波动较大，交易金额也比较大，并未见明显异常。"
   ]
  },
  {
   "cell_type": "markdown",
   "metadata": {},
   "source": [
    "#### 总结\n",
    "这一部分主要是进行数据理解以及数据诊断。\n",
    "\n",
    "在数据理解部分，对分类变量，连续变量分别进行描述性统计分析，在这个过程中了解数据质量，认识数据的分布情况。\n",
    " - 对于分类变量，主要是进行类别取值的频次、百分比统计，特别地，对于次序变量，还可以统计其累积频次和累积百分比；\n",
    " - 对于连续变量，主要是进行变量均值、标准差、分位数、最大最小值的统计。\n",
    " \n",
    "在数据诊断部分，识别异常值并进行相应的处理。\n",
    " - 多表对照识别异常交易数据，非注册用户进行的交易为非正常交易。\n",
    " - 单变量与多变量结合进行探索性分析。这部分可利用可视化、图表结合的方法，通过对比相关变量间的关系，识别异常值。比如，双变量结合可以更有效地展示出变量间的重要关系。"
   ]
  }
 ],
 "metadata": {
  "kernelspec": {
   "display_name": "R",
   "language": "R",
   "name": "ir"
  },
  "language_info": {
   "codemirror_mode": "r",
   "file_extension": ".r",
   "mimetype": "text/x-r-source",
   "name": "R",
   "pygments_lexer": "r",
   "version": "4.0.1"
  }
 },
 "nbformat": 4,
 "nbformat_minor": 4
}
